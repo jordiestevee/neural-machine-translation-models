{
  "cells": [
    {
      "cell_type": "code",
      "execution_count": null,
      "metadata": {
        "colab": {
          "base_uri": "https://localhost:8080/"
        },
        "id": "VfDqnv1fkaKf",
        "outputId": "69106b3d-133e-478d-ec7d-5354992a1271"
      },
      "outputs": [
        {
          "output_type": "stream",
          "name": "stdout",
          "text": [
            "Requirement already satisfied: datasets in /usr/local/lib/python3.11/dist-packages (2.14.4)\n",
            "Collecting datasets\n",
            "  Downloading datasets-3.6.0-py3-none-any.whl.metadata (19 kB)\n",
            "Requirement already satisfied: huggingface_hub in /usr/local/lib/python3.11/dist-packages (0.32.2)\n",
            "Collecting huggingface_hub\n",
            "  Downloading huggingface_hub-0.32.4-py3-none-any.whl.metadata (14 kB)\n",
            "Requirement already satisfied: fsspec in /usr/local/lib/python3.11/dist-packages (2025.3.2)\n",
            "Collecting fsspec\n",
            "  Downloading fsspec-2025.5.1-py3-none-any.whl.metadata (11 kB)\n",
            "Requirement already satisfied: filelock in /usr/local/lib/python3.11/dist-packages (from datasets) (3.18.0)\n",
            "Requirement already satisfied: numpy>=1.17 in /usr/local/lib/python3.11/dist-packages (from datasets) (2.0.2)\n",
            "Requirement already satisfied: pyarrow>=15.0.0 in /usr/local/lib/python3.11/dist-packages (from datasets) (18.1.0)\n",
            "Requirement already satisfied: dill<0.3.9,>=0.3.0 in /usr/local/lib/python3.11/dist-packages (from datasets) (0.3.7)\n",
            "Requirement already satisfied: pandas in /usr/local/lib/python3.11/dist-packages (from datasets) (2.2.2)\n",
            "Requirement already satisfied: requests>=2.32.2 in /usr/local/lib/python3.11/dist-packages (from datasets) (2.32.3)\n",
            "Requirement already satisfied: tqdm>=4.66.3 in /usr/local/lib/python3.11/dist-packages (from datasets) (4.67.1)\n",
            "Requirement already satisfied: xxhash in /usr/local/lib/python3.11/dist-packages (from datasets) (3.5.0)\n",
            "Requirement already satisfied: multiprocess<0.70.17 in /usr/local/lib/python3.11/dist-packages (from datasets) (0.70.15)\n",
            "  Downloading fsspec-2025.3.0-py3-none-any.whl.metadata (11 kB)\n",
            "Requirement already satisfied: packaging in /usr/local/lib/python3.11/dist-packages (from datasets) (24.2)\n",
            "Requirement already satisfied: pyyaml>=5.1 in /usr/local/lib/python3.11/dist-packages (from datasets) (6.0.2)\n",
            "Requirement already satisfied: typing-extensions>=3.7.4.3 in /usr/local/lib/python3.11/dist-packages (from huggingface_hub) (4.13.2)\n",
            "Requirement already satisfied: hf-xet<2.0.0,>=1.1.2 in /usr/local/lib/python3.11/dist-packages (from huggingface_hub) (1.1.2)\n",
            "Requirement already satisfied: aiohttp!=4.0.0a0,!=4.0.0a1 in /usr/local/lib/python3.11/dist-packages (from fsspec[http]<=2025.3.0,>=2023.1.0->datasets) (3.11.15)\n",
            "Requirement already satisfied: charset-normalizer<4,>=2 in /usr/local/lib/python3.11/dist-packages (from requests>=2.32.2->datasets) (3.4.2)\n",
            "Requirement already satisfied: idna<4,>=2.5 in /usr/local/lib/python3.11/dist-packages (from requests>=2.32.2->datasets) (3.10)\n",
            "Requirement already satisfied: urllib3<3,>=1.21.1 in /usr/local/lib/python3.11/dist-packages (from requests>=2.32.2->datasets) (2.4.0)\n",
            "Requirement already satisfied: certifi>=2017.4.17 in /usr/local/lib/python3.11/dist-packages (from requests>=2.32.2->datasets) (2025.4.26)\n",
            "Requirement already satisfied: python-dateutil>=2.8.2 in /usr/local/lib/python3.11/dist-packages (from pandas->datasets) (2.9.0.post0)\n",
            "Requirement already satisfied: pytz>=2020.1 in /usr/local/lib/python3.11/dist-packages (from pandas->datasets) (2025.2)\n",
            "Requirement already satisfied: tzdata>=2022.7 in /usr/local/lib/python3.11/dist-packages (from pandas->datasets) (2025.2)\n",
            "Requirement already satisfied: aiohappyeyeballs>=2.3.0 in /usr/local/lib/python3.11/dist-packages (from aiohttp!=4.0.0a0,!=4.0.0a1->fsspec[http]<=2025.3.0,>=2023.1.0->datasets) (2.6.1)\n",
            "Requirement already satisfied: aiosignal>=1.1.2 in /usr/local/lib/python3.11/dist-packages (from aiohttp!=4.0.0a0,!=4.0.0a1->fsspec[http]<=2025.3.0,>=2023.1.0->datasets) (1.3.2)\n",
            "Requirement already satisfied: attrs>=17.3.0 in /usr/local/lib/python3.11/dist-packages (from aiohttp!=4.0.0a0,!=4.0.0a1->fsspec[http]<=2025.3.0,>=2023.1.0->datasets) (25.3.0)\n",
            "Requirement already satisfied: frozenlist>=1.1.1 in /usr/local/lib/python3.11/dist-packages (from aiohttp!=4.0.0a0,!=4.0.0a1->fsspec[http]<=2025.3.0,>=2023.1.0->datasets) (1.6.0)\n",
            "Requirement already satisfied: multidict<7.0,>=4.5 in /usr/local/lib/python3.11/dist-packages (from aiohttp!=4.0.0a0,!=4.0.0a1->fsspec[http]<=2025.3.0,>=2023.1.0->datasets) (6.4.4)\n",
            "Requirement already satisfied: propcache>=0.2.0 in /usr/local/lib/python3.11/dist-packages (from aiohttp!=4.0.0a0,!=4.0.0a1->fsspec[http]<=2025.3.0,>=2023.1.0->datasets) (0.3.1)\n",
            "Requirement already satisfied: yarl<2.0,>=1.17.0 in /usr/local/lib/python3.11/dist-packages (from aiohttp!=4.0.0a0,!=4.0.0a1->fsspec[http]<=2025.3.0,>=2023.1.0->datasets) (1.20.0)\n",
            "Requirement already satisfied: six>=1.5 in /usr/local/lib/python3.11/dist-packages (from python-dateutil>=2.8.2->pandas->datasets) (1.17.0)\n",
            "Downloading datasets-3.6.0-py3-none-any.whl (491 kB)\n",
            "\u001b[2K   \u001b[90m━━━━━━━━━━━━━━━━━━━━━━━━━━━━━━━━━━━━━━━━\u001b[0m \u001b[32m491.5/491.5 kB\u001b[0m \u001b[31m5.1 MB/s\u001b[0m eta \u001b[36m0:00:00\u001b[0m\n",
            "\u001b[?25hDownloading huggingface_hub-0.32.4-py3-none-any.whl (512 kB)\n",
            "\u001b[2K   \u001b[90m━━━━━━━━━━━━━━━━━━━━━━━━━━━━━━━━━━━━━━━━\u001b[0m \u001b[32m512.1/512.1 kB\u001b[0m \u001b[31m16.4 MB/s\u001b[0m eta \u001b[36m0:00:00\u001b[0m\n",
            "\u001b[?25hDownloading fsspec-2025.3.0-py3-none-any.whl (193 kB)\n",
            "\u001b[2K   \u001b[90m━━━━━━━━━━━━━━━━━━━━━━━━━━━━━━━━━━━━━━━━\u001b[0m \u001b[32m193.6/193.6 kB\u001b[0m \u001b[31m13.1 MB/s\u001b[0m eta \u001b[36m0:00:00\u001b[0m\n",
            "\u001b[?25hInstalling collected packages: fsspec, huggingface_hub, datasets\n",
            "  Attempting uninstall: fsspec\n",
            "    Found existing installation: fsspec 2025.3.2\n",
            "    Uninstalling fsspec-2025.3.2:\n",
            "      Successfully uninstalled fsspec-2025.3.2\n",
            "  Attempting uninstall: huggingface_hub\n",
            "    Found existing installation: huggingface-hub 0.32.2\n",
            "    Uninstalling huggingface-hub-0.32.2:\n",
            "      Successfully uninstalled huggingface-hub-0.32.2\n",
            "  Attempting uninstall: datasets\n",
            "    Found existing installation: datasets 2.14.4\n",
            "    Uninstalling datasets-2.14.4:\n",
            "      Successfully uninstalled datasets-2.14.4\n",
            "\u001b[31mERROR: pip's dependency resolver does not currently take into account all the packages that are installed. This behaviour is the source of the following dependency conflicts.\n",
            "gcsfs 2025.3.2 requires fsspec==2025.3.2, but you have fsspec 2025.3.0 which is incompatible.\n",
            "torch 2.6.0+cu124 requires nvidia-cublas-cu12==12.4.5.8; platform_system == \"Linux\" and platform_machine == \"x86_64\", but you have nvidia-cublas-cu12 12.5.3.2 which is incompatible.\n",
            "torch 2.6.0+cu124 requires nvidia-cuda-cupti-cu12==12.4.127; platform_system == \"Linux\" and platform_machine == \"x86_64\", but you have nvidia-cuda-cupti-cu12 12.5.82 which is incompatible.\n",
            "torch 2.6.0+cu124 requires nvidia-cuda-nvrtc-cu12==12.4.127; platform_system == \"Linux\" and platform_machine == \"x86_64\", but you have nvidia-cuda-nvrtc-cu12 12.5.82 which is incompatible.\n",
            "torch 2.6.0+cu124 requires nvidia-cuda-runtime-cu12==12.4.127; platform_system == \"Linux\" and platform_machine == \"x86_64\", but you have nvidia-cuda-runtime-cu12 12.5.82 which is incompatible.\n",
            "torch 2.6.0+cu124 requires nvidia-cudnn-cu12==9.1.0.70; platform_system == \"Linux\" and platform_machine == \"x86_64\", but you have nvidia-cudnn-cu12 9.3.0.75 which is incompatible.\n",
            "torch 2.6.0+cu124 requires nvidia-cufft-cu12==11.2.1.3; platform_system == \"Linux\" and platform_machine == \"x86_64\", but you have nvidia-cufft-cu12 11.2.3.61 which is incompatible.\n",
            "torch 2.6.0+cu124 requires nvidia-curand-cu12==10.3.5.147; platform_system == \"Linux\" and platform_machine == \"x86_64\", but you have nvidia-curand-cu12 10.3.6.82 which is incompatible.\n",
            "torch 2.6.0+cu124 requires nvidia-cusolver-cu12==11.6.1.9; platform_system == \"Linux\" and platform_machine == \"x86_64\", but you have nvidia-cusolver-cu12 11.6.3.83 which is incompatible.\n",
            "torch 2.6.0+cu124 requires nvidia-cusparse-cu12==12.3.1.170; platform_system == \"Linux\" and platform_machine == \"x86_64\", but you have nvidia-cusparse-cu12 12.5.1.3 which is incompatible.\n",
            "torch 2.6.0+cu124 requires nvidia-nvjitlink-cu12==12.4.127; platform_system == \"Linux\" and platform_machine == \"x86_64\", but you have nvidia-nvjitlink-cu12 12.5.82 which is incompatible.\u001b[0m\u001b[31m\n",
            "\u001b[0mSuccessfully installed datasets-3.6.0 fsspec-2025.3.0 huggingface_hub-0.32.4\n"
          ]
        }
      ],
      "source": [
        "!pip install -U datasets huggingface_hub fsspec"
      ]
    },
    {
      "cell_type": "code",
      "execution_count": null,
      "metadata": {
        "id": "YT1lapS6-IBd"
      },
      "outputs": [],
      "source": [
        "import torch\n",
        "import torch.nn as nn\n",
        "import torch.optim as optim\n",
        "from torch.utils.data import Dataset, DataLoader\n",
        "from torch.nn.utils.rnn import pad_sequence"
      ]
    },
    {
      "cell_type": "code",
      "execution_count": null,
      "metadata": {
        "colab": {
          "base_uri": "https://localhost:8080/"
        },
        "id": "mXxwIY6dgwfR",
        "outputId": "1e3423e4-27e4-461a-9b42-6bb8ac54a148"
      },
      "outputs": [
        {
          "output_type": "execute_result",
          "data": {
            "text/plain": [
              "device(type='cuda', index=0)"
            ]
          },
          "metadata": {},
          "execution_count": 2
        }
      ],
      "source": [
        "# Device-independent code\n",
        "DEVICE = torch.device(\"cuda:0\" if torch.cuda.is_available() else \"cpu\")\n",
        "DEVICE"
      ]
    },
    {
      "cell_type": "code",
      "execution_count": null,
      "metadata": {
        "colab": {
          "base_uri": "https://localhost:8080/"
        },
        "id": "mnIGIGwiDgvx",
        "outputId": "3d17459b-bd76-47d2-fbfa-884431a4d191"
      },
      "outputs": [
        {
          "output_type": "stream",
          "name": "stdout",
          "text": [
            "--2025-06-06 08:51:48--  https://raw.githubusercontent.com/kyuz0/llm-chronicles/main/datasets/eng_ita_v2.txt\n",
            "Resolving raw.githubusercontent.com (raw.githubusercontent.com)... 185.199.108.133, 185.199.109.133, 185.199.110.133, ...\n",
            "Connecting to raw.githubusercontent.com (raw.githubusercontent.com)|185.199.108.133|:443... connected.\n",
            "HTTP request sent, awaiting response... 200 OK\n",
            "Length: 7240475 (6.9M) [text/plain]\n",
            "Saving to: ‘eng_ita_v2.txt’\n",
            "\n",
            "eng_ita_v2.txt      100%[===================>]   6.90M  --.-KB/s    in 0.04s   \n",
            "\n",
            "2025-06-06 08:51:49 (164 MB/s) - ‘eng_ita_v2.txt’ saved [7240475/7240475]\n",
            "\n"
          ]
        }
      ],
      "source": [
        "!wget https://raw.githubusercontent.com/kyuz0/llm-chronicles/main/datasets/eng_ita_v2.txt\n",
        "#!wget https://github.com/mahsu/IndexingExercise/blob/master/5000-words.txt"
      ]
    },
    {
      "cell_type": "code",
      "execution_count": null,
      "metadata": {
        "id": "yCl9WhtNN1TR",
        "colab": {
          "base_uri": "https://localhost:8080/",
          "height": 35
        },
        "outputId": "f18550a6-552e-4ff4-8ffa-ea2a8d824165"
      },
      "outputs": [
        {
          "output_type": "execute_result",
          "data": {
            "text/plain": [
              "'with open(\"5000-words.txt\", \"r\", encoding=\"utf-8\") as f:\\n    vocab = set(w.strip().lower() for w in f if w.strip())'"
            ],
            "application/vnd.google.colaboratory.intrinsic+json": {
              "type": "string"
            }
          },
          "metadata": {},
          "execution_count": 7
        }
      ],
      "source": [
        "import numpy as np\n",
        "\n",
        "# Function to read the file and extract pairs\n",
        "def read_data(file_path):\n",
        "    with open(file_path, 'r', encoding='utf-8') as file:\n",
        "        lines = file.read().strip().split('\\n')\n",
        "    pairs = [[s for s in line.split(' -> ')] for line in lines]\n",
        "    return pairs\n",
        "\n",
        "\"\"\"with open(\"5000-words.txt\", \"r\", encoding=\"utf-8\") as f:\n",
        "    vocab = set(w.strip().lower() for w in f if w.strip())\"\"\""
      ]
    },
    {
      "cell_type": "code",
      "execution_count": null,
      "metadata": {
        "colab": {
          "base_uri": "https://localhost:8080/",
          "height": 49,
          "referenced_widgets": [
            "b6cc73e24c5a4f69a986f2ce639df315",
            "84faa0774c674f63a77caa24919f8703",
            "7f7ab27b1a92413494e07703fa9a4163",
            "350f4e1e1fce45e7ab6e828afa46f525",
            "bd14484c68c040f493ab4667befb27e0",
            "42254463be3241a09387a23753347bc6",
            "2a05b3b610404064b672b937f9352e95",
            "3293fb62d43a4b2282f9e45dcf4e7047",
            "ee41383358cd4876b8181018d9ba10da",
            "c2e3e414ee9f4cc98cc1f66a98889a92",
            "2f3c3e48693144bfaf70466d41769771"
          ]
        },
        "id": "l-4h_dwVkL65",
        "outputId": "46ca520d-743e-4574-bbac-3273eeac0780"
      },
      "outputs": [
        {
          "output_type": "display_data",
          "data": {
            "text/plain": [
              "Filter:   0%|          | 0/13646844 [00:00<?, ? examples/s]"
            ],
            "application/vnd.jupyter.widget-view+json": {
              "version_major": 2,
              "version_minor": 0,
              "model_id": "b6cc73e24c5a4f69a986f2ce639df315"
            }
          },
          "metadata": {}
        }
      ],
      "source": [
        "\"\"\"import re\n",
        "\n",
        "word_re = re.compile(r\"\\b[a-zA-Z']+\\b\")\n",
        "\n",
        "def is_valid_pair(ex):\n",
        "    eng = ex[\"english\"].strip()\n",
        "    esp = ex[\"non_english\"].strip()\n",
        "    if not eng or not esp:\n",
        "        return False                # drop if either side is empty\n",
        "    words = word_re.findall(eng.lower())\n",
        "    if not words:\n",
        "        return False                # drop if no valid word tokens\n",
        "    return all(w in vocab for w in words)\n",
        "\n",
        "filtered = dataset.filter(is_valid_pair)\"\"\""
      ]
    },
    {
      "cell_type": "code",
      "execution_count": null,
      "metadata": {
        "colab": {
          "base_uri": "https://localhost:8080/"
        },
        "id": "ASWdeyDxl8Ji",
        "outputId": "8bed1993-0243-4eb5-a4bc-f2082973dca0"
      },
      "outputs": [
        {
          "output_type": "stream",
          "name": "stdout",
          "text": [
            "316\n",
            "English: \"New star...\n",
            "Spanish: \"Nueva estrella...\n",
            "\n",
            "English: PARTNERS?\n",
            "Spanish: ¿Socios?\n",
            "\n",
            "English: PARTNERS.\n",
            "Spanish: Socios.\n",
            "\n",
            "English: New.\n",
            "Spanish: Diferente.\n",
            "\n",
            "English: Security.\n",
            "Spanish: Seguridad.\n",
            "\n"
          ]
        }
      ],
      "source": [
        "\"\"\"print(len(filtered))\n",
        "for ex in filtered.select(range(5)):\n",
        "    print(\"English:\", ex[\"english\"])\n",
        "    print(\"Spanish:\", ex[\"non_english\"])\n",
        "    print()\"\"\""
      ]
    },
    {
      "cell_type": "code",
      "execution_count": null,
      "metadata": {
        "id": "xR-yNevqlQg_",
        "colab": {
          "base_uri": "https://localhost:8080/",
          "height": 49,
          "referenced_widgets": [
            "bd2c1dd2d8aa4a729ee67e4bd7fae407",
            "9fd7d6e4c7c44e4688fac88d04e80c4d",
            "f823f8abbfb543d6b643c07fe65a7244",
            "2cb38fc7798140678b7f81e7182103ee",
            "0c54278595c04018b38e3d733e434f06",
            "561d662529b649089f5701710939f0ab",
            "12d344dc3d9d4827b19f58705220763f",
            "baaf222cab9b42018d83659de0aac997",
            "1b9b6eaef3e141ba90ba3719ba44ea1b",
            "be62485573bb49dda6229e13cad02e17",
            "843a047e166444e6b9922109d85f7f93"
          ]
        },
        "outputId": "d86b7e3d-dc12-4dfd-f52f-cf6329dd019e"
      },
      "outputs": [
        {
          "output_type": "display_data",
          "data": {
            "text/plain": [
              "Saving the dataset (0/1 shards):   0%|          | 0/316 [00:00<?, ? examples/s]"
            ],
            "application/vnd.jupyter.widget-view+json": {
              "version_major": 2,
              "version_minor": 0,
              "model_id": "bd2c1dd2d8aa4a729ee67e4bd7fae407"
            }
          },
          "metadata": {}
        }
      ],
      "source": [
        "\"\"\"filtered.save_to_disk(\"filtered_enes5000\")\"\"\""
      ]
    },
    {
      "cell_type": "code",
      "execution_count": null,
      "metadata": {
        "colab": {
          "base_uri": "https://localhost:8080/"
        },
        "id": "30vG0l1ZKWrG",
        "outputId": "57e21265-673b-41a3-a91a-f09c4516fde3"
      },
      "outputs": [
        {
          "output_type": "execute_result",
          "data": {
            "text/plain": [
              "120746"
            ]
          },
          "metadata": {},
          "execution_count": 8
        }
      ],
      "source": [
        "# Path to text file\n",
        "\n",
        "file_path = 'eng_ita_v2.txt'\n",
        "\n",
        "# Process the data\n",
        "pairs = read_data(file_path)\n",
        "len(pairs)\n"
      ]
    },
    {
      "cell_type": "code",
      "execution_count": null,
      "metadata": {
        "colab": {
          "base_uri": "https://localhost:8080/"
        },
        "id": "GkUurywmJ48U",
        "outputId": "3ec0cbdf-f09f-4377-db02-b6d5c12ca3cb"
      },
      "outputs": [
        {
          "output_type": "stream",
          "name": "stdout",
          "text": [
            "English vocabulary size: 4997\n",
            "Italian vocabulary size: 13673\n"
          ]
        }
      ],
      "source": [
        "# Create vocabulary\n",
        "def tokenize(sentence):\n",
        "  return sentence.lower().split()\n",
        "\n",
        "# Tokenize and build vocabularies\n",
        "def build_vocab(pairs):\n",
        "    eng_vocab = set()\n",
        "    ita_vocab = set()\n",
        "    for eng, ita in pairs:\n",
        "        eng_vocab.update(tokenize(eng))\n",
        "        ita_vocab.update(tokenize(ita))\n",
        "    return eng_vocab, ita_vocab\n",
        "\n",
        "english_vocab, italian_vocab = build_vocab(pairs)\n",
        "\n",
        "# Creating word to integer mapping\n",
        "eng_word2int = {word: i for i, word in enumerate(english_vocab)}\n",
        "ita_word2int = {word: i for i, word in enumerate(italian_vocab)}\n",
        "\n",
        "# Creating integer to word mapping\n",
        "eng_int2word = {i: word for word, i in eng_word2int.items()}\n",
        "ita_int2word = {i: word for word, i in ita_word2int.items()}\n",
        "\n",
        "print('English vocabulary size:', len(english_vocab))\n",
        "print('Italian vocabulary size:', len(italian_vocab))"
      ]
    },
    {
      "cell_type": "code",
      "execution_count": null,
      "metadata": {
        "colab": {
          "base_uri": "https://localhost:8080/"
        },
        "id": "6wpIt3jSN5dW",
        "outputId": "1d3bf34b-37f2-4f7d-9f7c-edfd180568b9"
      },
      "outputs": [
        {
          "output_type": "stream",
          "name": "stdout",
          "text": [
            "English text encoded: [2227 3909 3873]\n",
            "Italian text encoded: [ 9572 10568  5313]\n",
            "Decoded English: who are you\n",
            "Decoded Italian: chi sei tu\n"
          ]
        }
      ],
      "source": [
        "# Example usage\n",
        "eng_example = \"Who are you\"\n",
        "ita_example = \"chi sei tu\"\n",
        "\n",
        "# Encoding\n",
        "eng_encoded = np.array([eng_word2int[word] for word in tokenize(eng_example)], dtype=np.int32)\n",
        "ita_encoded = np.array([ita_word2int[word] for word in tokenize(ita_example)], dtype=np.int32)\n",
        "\n",
        "print('English text encoded:', eng_encoded)\n",
        "print('Italian text encoded:', ita_encoded)\n",
        "\n",
        "# Decoding\n",
        "print('Decoded English:', ' '.join([eng_int2word[i] for i in eng_encoded]))\n",
        "print('Decoded Italian:', ' '.join([ita_int2word[i] for i in ita_encoded]))"
      ]
    },
    {
      "cell_type": "code",
      "execution_count": null,
      "metadata": {
        "id": "loqdS_5eQkdB"
      },
      "outputs": [],
      "source": [
        "# Special tokens\n",
        "PAD_TOKEN = \"<PAD>\"\n",
        "EOS_TOKEN = \"<EOS>\"\n",
        "SOS_TOKEN = \"<SOS>\"\n",
        "UNK_TOKEN = \"<UNK>\"\n",
        "\n",
        "# Update the function to create mappings to include the special tokens\n",
        "def create_mappings(vocab):\n",
        "    vocab = [PAD_TOKEN, SOS_TOKEN, EOS_TOKEN, UNK_TOKEN] + sorted(vocab)\n",
        "    word2int = {word: i for i, word in enumerate(vocab)}\n",
        "    int2word = {i: word for word, i in word2int.items()}\n",
        "    return word2int, int2word\n",
        "\n",
        "# Update the vocabularies\n",
        "eng_word2int, eng_int2word = create_mappings(english_vocab)\n",
        "ita_word2int, ita_int2word = create_mappings(italian_vocab)"
      ]
    },
    {
      "cell_type": "code",
      "execution_count": null,
      "metadata": {
        "id": "7W0Pmcd5QnkW"
      },
      "outputs": [],
      "source": [
        "class TranslationDataset(Dataset):\n",
        "    def __init__(self, pairs, eng_word2int, ita_word2int):\n",
        "        self.pairs = pairs\n",
        "        self.eng_word2int = eng_word2int\n",
        "        self.ita_word2int = ita_word2int\n",
        "\n",
        "    def __len__(self):\n",
        "        return len(self.pairs)\n",
        "\n",
        "    def __getitem__(self, idx):\n",
        "        eng, ita = self.pairs[idx]\n",
        "        eng_tensor = torch.tensor([self.eng_word2int[word] for word in tokenize(eng)]\n",
        "                                  + [self.eng_word2int[EOS_TOKEN]], dtype=torch.long)\n",
        "        ita_tensor = torch.tensor([self.ita_word2int[word] for word in tokenize(ita)]\n",
        "                                  + [self.ita_word2int[EOS_TOKEN]], dtype=torch.long)\n",
        "        return eng_tensor, ita_tensor\n",
        "\n",
        "# Custom collate function to handle padding\n",
        "def collate_fn(batch):\n",
        "    eng_batch, ita_batch = zip(*batch)\n",
        "    eng_batch_padded = pad_sequence(eng_batch, batch_first=True, padding_value=eng_word2int[PAD_TOKEN])\n",
        "    ita_batch_padded = pad_sequence(ita_batch, batch_first=True, padding_value=ita_word2int[PAD_TOKEN])\n",
        "    return eng_batch_padded, ita_batch_padded"
      ]
    },
    {
      "cell_type": "code",
      "execution_count": null,
      "metadata": {
        "colab": {
          "base_uri": "https://localhost:8080/"
        },
        "id": "5qk88CrMSq6E",
        "outputId": "e61221fb-9f3d-42fb-fc74-cc01344afc43"
      },
      "outputs": [
        {
          "output_type": "stream",
          "name": "stdout",
          "text": [
            "Translation samples:  120746\n",
            "Translation batches:  1886\n"
          ]
        }
      ],
      "source": [
        "from torch.nn.utils.rnn import pad_sequence\n",
        "\n",
        "# Create the dataset and DataLoader\n",
        "translation_dataset = TranslationDataset(pairs, eng_word2int, ita_word2int)\n",
        "batch_size = 64\n",
        "translation_dataloader = DataLoader(translation_dataset, batch_size=batch_size,\n",
        "                                    shuffle=True,  drop_last=True, collate_fn=collate_fn)\n",
        "\n",
        "print(\"Translation samples: \", len(translation_dataset))\n",
        "print(\"Translation batches: \", len(translation_dataloader))"
      ]
    },
    {
      "cell_type": "code",
      "execution_count": null,
      "metadata": {
        "id": "_ecbJY18-YzM"
      },
      "outputs": [],
      "source": [
        "import torch\n",
        "import torch.nn as nn\n",
        "import torch.optim as optim\n",
        "import torch.nn.functional as F\n",
        "\n",
        "class Encoder(nn.Module):\n",
        "    def __init__(self, vocab_size, embed_size, hidden_size, num_layers=1):\n",
        "        super().__init__()\n",
        "        self.hidden_size = hidden_size\n",
        "        self.embedding = nn.Embedding(vocab_size, embed_size)\n",
        "        self.lstm = nn.LSTM(embed_size, hidden_size, num_layers=num_layers,\n",
        "                            batch_first=True)\n",
        "\n",
        "    def forward(self, x):\n",
        "        # Reversing the sequence of indices\n",
        "        x = torch.flip(x, [1])\n",
        "        embedded = self.embedding(x)\n",
        "        outputs, (hidden, cell) = self.lstm(embedded)\n",
        "        return outputs, hidden, cell"
      ]
    },
    {
      "cell_type": "code",
      "execution_count": null,
      "metadata": {
        "id": "aBB_SwHM-cSN"
      },
      "outputs": [],
      "source": [
        "class Decoder(nn.Module):\n",
        "    def __init__(self, vocab_size, embed_size, hidden_size, num_layers=1):\n",
        "        super().__init__()\n",
        "        self.hidden_size = hidden_size\n",
        "        self.embedding = nn.Embedding(vocab_size, embed_size)\n",
        "        self.lstm = nn.LSTM(embed_size, hidden_size, num_layers=num_layers,\n",
        "                            batch_first=True)\n",
        "        self.fc = nn.Linear(hidden_size, vocab_size)\n",
        "\n",
        "    def forward(self, x, hidden, cell):\n",
        "        out = self.embedding(x)\n",
        "        out, (hidden, cell) = self.lstm(out, (hidden, cell))\n",
        "        out = self.fc(out).reshape(out.size(0), -1)\n",
        "        return out, hidden, cell"
      ]
    },
    {
      "cell_type": "code",
      "execution_count": null,
      "metadata": {
        "id": "DEpM93wn-hDg"
      },
      "outputs": [],
      "source": [
        "# Hyperparameters\n",
        "eng_vocab_size = len(eng_word2int)\n",
        "ita_vocab_size = len(ita_word2int)\n",
        "embed_size = 256\n",
        "hidden_size = 512\n",
        "num_layers = 1\n",
        "\n",
        "# Initialize the models\n",
        "encoder = Encoder(eng_vocab_size, embed_size, hidden_size, num_layers).to(DEVICE)\n",
        "decoder = Decoder(ita_vocab_size, embed_size, hidden_size, num_layers).to(DEVICE)"
      ]
    },
    {
      "cell_type": "code",
      "execution_count": null,
      "metadata": {
        "id": "JRwpn5iYVlje"
      },
      "outputs": [],
      "source": [
        "def translate(encoder, decoder, sentence, eng_word2int, ita_int2word, max_length=15):\n",
        "    encoder.eval()\n",
        "    decoder.eval()\n",
        "    with torch.inference_mode():\n",
        "        # Tokenize and encode the sentence\n",
        "        input_tensor = torch.tensor([eng_word2int[word] for word in tokenize(sentence)]\n",
        "                                    + [eng_word2int[EOS_TOKEN]], dtype=torch.long)\n",
        "        input_tensor = input_tensor.view(1, -1).to(DEVICE)  # batch_first=True\n",
        "\n",
        "        # Pass the input through the encoder\n",
        "        _, encoder_hidden, encoder_cell = encoder(input_tensor)\n",
        "\n",
        "        # Initialize the decoder input with the SOS token\n",
        "        decoder_input = torch.tensor([[eng_word2int[SOS_TOKEN]]], dtype=torch.long)  # SOS\n",
        "        # Initialize the hidden state of the decoder with the encoder's hidden state\n",
        "        decoder_hidden, decoder_cell = encoder_hidden, encoder_cell\n",
        "\n",
        "        # Decoding the sentence\n",
        "        decoded_words = []\n",
        "        last_word = torch.tensor([[eng_word2int[SOS_TOKEN]]]).to(DEVICE)\n",
        "        for di in range(max_length):\n",
        "            logits, decoder_hidden, decoder_cell = decoder(last_word, decoder_hidden, decoder_cell)\n",
        "            next_token = logits.argmax(dim=1) # greedy\n",
        "            last_word = torch.tensor([[next_token]]).to(DEVICE)\n",
        "            if next_token.item() == ita_word2int[EOS_TOKEN]:\n",
        "                break\n",
        "            else:\n",
        "                decoded_words.append(ita_int2word.get(next_token.item()))\n",
        "\n",
        "        return ' '.join(decoded_words)"
      ]
    },
    {
      "cell_type": "markdown",
      "source": [
        "# **Train**"
      ],
      "metadata": {
        "id": "Lh34gZQthwdK"
      }
    },
    {
      "cell_type": "code",
      "execution_count": null,
      "metadata": {
        "colab": {
          "base_uri": "https://localhost:8080/"
        },
        "id": "qundAzVU-lnz",
        "outputId": "1a6aef71-e9e6-48eb-8539-a2e532dafa99"
      },
      "outputs": [
        {
          "output_type": "stream",
          "name": "stdout",
          "text": [
            "Epoch 0, Batch 0, Loss: 9.5151\n",
            "Epoch 0, Batch 100, Loss: 4.5478\n",
            "Epoch 0, Batch 200, Loss: 3.8440\n",
            "Epoch 0, Batch 300, Loss: 4.1583\n",
            "Epoch 0, Batch 400, Loss: 4.4469\n",
            "Epoch 0, Batch 500, Loss: 3.7718\n",
            "Epoch 0, Batch 600, Loss: 3.6907\n",
            "Epoch 0, Batch 700, Loss: 3.4962\n",
            "Epoch 0, Batch 800, Loss: 3.0509\n",
            "Epoch 0, Batch 900, Loss: 3.1923\n",
            "Epoch 0, Batch 1000, Loss: 2.5373\n",
            "Epoch 0, Batch 1100, Loss: 2.5597\n",
            "Epoch 0, Batch 1200, Loss: 3.0508\n",
            "Epoch 0, Batch 1300, Loss: 3.0945\n",
            "Epoch 0, Batch 1400, Loss: 3.1476\n",
            "Epoch 0, Batch 1500, Loss: 2.9080\n",
            "Epoch 0, Batch 1600, Loss: 2.3722\n",
            "Epoch 0, Batch 1700, Loss: 2.5164\n",
            "Epoch 0, Batch 1800, Loss: 3.3248\n",
            "Epoch 1, Batch 0, Loss: 2.0162\n",
            "Epoch 1, Batch 100, Loss: 2.2122\n",
            "Epoch 1, Batch 200, Loss: 1.9310\n",
            "Epoch 1, Batch 300, Loss: 2.2210\n",
            "Epoch 1, Batch 400, Loss: 2.0728\n",
            "Epoch 1, Batch 500, Loss: 2.2646\n",
            "Epoch 1, Batch 600, Loss: 1.6760\n",
            "Epoch 1, Batch 700, Loss: 2.1958\n",
            "Epoch 1, Batch 800, Loss: 2.0306\n",
            "Epoch 1, Batch 900, Loss: 1.5589\n",
            "Epoch 1, Batch 1000, Loss: 2.1283\n",
            "Epoch 1, Batch 1100, Loss: 1.8145\n",
            "Epoch 1, Batch 1200, Loss: 1.6561\n",
            "Epoch 1, Batch 1300, Loss: 1.7502\n",
            "Epoch 1, Batch 1400, Loss: 1.3960\n",
            "Epoch 1, Batch 1500, Loss: 1.5466\n",
            "Epoch 1, Batch 1600, Loss: 1.3814\n",
            "Epoch 1, Batch 1700, Loss: 2.1110\n",
            "Epoch 1, Batch 1800, Loss: 1.8620\n",
            "Epoch 2, Batch 0, Loss: 1.6876\n",
            "Epoch 2, Batch 100, Loss: 1.2273\n",
            "Epoch 2, Batch 200, Loss: 1.2342\n",
            "Epoch 2, Batch 300, Loss: 1.0202\n",
            "Epoch 2, Batch 400, Loss: 1.1173\n",
            "Epoch 2, Batch 500, Loss: 1.4529\n",
            "Epoch 2, Batch 600, Loss: 1.1627\n",
            "Epoch 2, Batch 700, Loss: 1.0122\n",
            "Epoch 2, Batch 800, Loss: 1.1629\n",
            "Epoch 2, Batch 900, Loss: 1.1191\n",
            "Epoch 2, Batch 1000, Loss: 0.8842\n",
            "Epoch 2, Batch 1100, Loss: 0.9499\n",
            "Epoch 2, Batch 1200, Loss: 1.0546\n",
            "Epoch 2, Batch 1300, Loss: 0.8683\n",
            "Epoch 2, Batch 1400, Loss: 0.9423\n",
            "Epoch 2, Batch 1500, Loss: 1.1828\n",
            "Epoch 2, Batch 1600, Loss: 1.2077\n",
            "Epoch 2, Batch 1700, Loss: 0.8319\n",
            "Epoch 2, Batch 1800, Loss: 0.9939\n",
            "Epoch 3, Batch 0, Loss: 0.7956\n",
            "Epoch 3, Batch 100, Loss: 0.7161\n",
            "Epoch 3, Batch 200, Loss: 0.7645\n",
            "Epoch 3, Batch 300, Loss: 0.6604\n",
            "Epoch 3, Batch 400, Loss: 0.6533\n",
            "Epoch 3, Batch 500, Loss: 0.5891\n",
            "Epoch 3, Batch 600, Loss: 0.7733\n",
            "Epoch 3, Batch 700, Loss: 0.6438\n",
            "Epoch 3, Batch 800, Loss: 0.6853\n",
            "Epoch 3, Batch 900, Loss: 0.5945\n",
            "Epoch 3, Batch 1000, Loss: 0.8364\n",
            "Epoch 3, Batch 1100, Loss: 0.5474\n",
            "Epoch 3, Batch 1200, Loss: 0.7416\n",
            "Epoch 3, Batch 1300, Loss: 0.6694\n",
            "Epoch 3, Batch 1400, Loss: 0.7371\n",
            "Epoch 3, Batch 1500, Loss: 0.8785\n",
            "Epoch 3, Batch 1600, Loss: 0.7406\n",
            "Epoch 3, Batch 1700, Loss: 0.9467\n",
            "Epoch 3, Batch 1800, Loss: 0.7557\n",
            "Epoch 4, Batch 0, Loss: 0.4804\n",
            "Epoch 4, Batch 100, Loss: 0.4736\n",
            "Epoch 4, Batch 200, Loss: 0.6467\n",
            "Epoch 4, Batch 300, Loss: 0.4110\n",
            "Epoch 4, Batch 400, Loss: 0.4914\n",
            "Epoch 4, Batch 500, Loss: 0.4658\n",
            "Epoch 4, Batch 600, Loss: 0.4225\n",
            "Epoch 4, Batch 700, Loss: 0.5318\n",
            "Epoch 4, Batch 800, Loss: 0.3968\n",
            "Epoch 4, Batch 900, Loss: 0.5311\n",
            "Epoch 4, Batch 1000, Loss: 0.6257\n",
            "Epoch 4, Batch 1100, Loss: 0.4705\n",
            "Epoch 4, Batch 1200, Loss: 0.4476\n",
            "Epoch 4, Batch 1300, Loss: 0.4684\n",
            "Epoch 4, Batch 1400, Loss: 0.5279\n",
            "Epoch 4, Batch 1500, Loss: 0.5880\n",
            "Epoch 4, Batch 1600, Loss: 0.5588\n",
            "Epoch 4, Batch 1700, Loss: 0.6862\n",
            "Epoch 4, Batch 1800, Loss: 0.6693\n",
            "Epoch 5, Batch 0, Loss: 0.4312\n",
            "Epoch 5, Batch 100, Loss: 0.3952\n",
            "Epoch 5, Batch 200, Loss: 0.4333\n",
            "Epoch 5, Batch 300, Loss: 0.5163\n",
            "Epoch 5, Batch 400, Loss: 0.3090\n",
            "Epoch 5, Batch 500, Loss: 0.4196\n",
            "Epoch 5, Batch 600, Loss: 0.4853\n",
            "Epoch 5, Batch 700, Loss: 0.4370\n",
            "Epoch 5, Batch 800, Loss: 0.3297\n",
            "Epoch 5, Batch 900, Loss: 0.2671\n",
            "Epoch 5, Batch 1000, Loss: 0.2641\n",
            "Epoch 5, Batch 1100, Loss: 0.3488\n",
            "Epoch 5, Batch 1200, Loss: 0.4639\n",
            "Epoch 5, Batch 1300, Loss: 0.4091\n",
            "Epoch 5, Batch 1400, Loss: 0.4616\n",
            "Epoch 5, Batch 1500, Loss: 0.4183\n",
            "Epoch 5, Batch 1600, Loss: 0.4861\n",
            "Epoch 5, Batch 1700, Loss: 0.2930\n",
            "Epoch 5, Batch 1800, Loss: 0.3922\n",
            "Epoch 6, Batch 0, Loss: 0.2133\n",
            "Epoch 6, Batch 100, Loss: 0.3496\n",
            "Epoch 6, Batch 200, Loss: 0.2450\n",
            "Epoch 6, Batch 300, Loss: 0.2621\n",
            "Epoch 6, Batch 400, Loss: 0.2355\n",
            "Epoch 6, Batch 500, Loss: 0.2445\n",
            "Epoch 6, Batch 600, Loss: 0.3243\n",
            "Epoch 6, Batch 700, Loss: 0.3441\n",
            "Epoch 6, Batch 800, Loss: 0.2825\n",
            "Epoch 6, Batch 900, Loss: 0.2714\n",
            "Epoch 6, Batch 1000, Loss: 0.3275\n",
            "Epoch 6, Batch 1100, Loss: 0.3170\n",
            "Epoch 6, Batch 1200, Loss: 0.3190\n",
            "Epoch 6, Batch 1300, Loss: 0.2691\n",
            "Epoch 6, Batch 1400, Loss: 0.2873\n",
            "Epoch 6, Batch 1500, Loss: 0.2986\n",
            "Epoch 6, Batch 1600, Loss: 0.3087\n",
            "Epoch 6, Batch 1700, Loss: 0.4221\n",
            "Epoch 6, Batch 1800, Loss: 0.2345\n",
            "Epoch 7, Batch 0, Loss: 0.2223\n",
            "Epoch 7, Batch 100, Loss: 0.1938\n",
            "Epoch 7, Batch 200, Loss: 0.2045\n",
            "Epoch 7, Batch 300, Loss: 0.2625\n",
            "Epoch 7, Batch 400, Loss: 0.2425\n",
            "Epoch 7, Batch 500, Loss: 0.2770\n",
            "Epoch 7, Batch 600, Loss: 0.1847\n",
            "Epoch 7, Batch 700, Loss: 0.1896\n",
            "Epoch 7, Batch 800, Loss: 0.2318\n",
            "Epoch 7, Batch 900, Loss: 0.2786\n",
            "Epoch 7, Batch 1000, Loss: 0.2085\n",
            "Epoch 7, Batch 1100, Loss: 0.2441\n",
            "Epoch 7, Batch 1200, Loss: 0.3656\n",
            "Epoch 7, Batch 1300, Loss: 0.1806\n",
            "Epoch 7, Batch 1400, Loss: 0.3174\n",
            "Epoch 7, Batch 1500, Loss: 0.2232\n",
            "Epoch 7, Batch 1600, Loss: 0.2284\n",
            "Epoch 7, Batch 1700, Loss: 0.2722\n",
            "Epoch 7, Batch 1800, Loss: 0.3543\n",
            "Epoch 8, Batch 0, Loss: 0.1815\n",
            "Epoch 8, Batch 100, Loss: 0.2226\n",
            "Epoch 8, Batch 200, Loss: 0.1257\n",
            "Epoch 8, Batch 300, Loss: 0.2344\n",
            "Epoch 8, Batch 400, Loss: 0.3000\n",
            "Epoch 8, Batch 500, Loss: 0.1598\n",
            "Epoch 8, Batch 600, Loss: 0.1815\n",
            "Epoch 8, Batch 700, Loss: 0.1523\n",
            "Epoch 8, Batch 800, Loss: 0.2395\n",
            "Epoch 8, Batch 900, Loss: 0.1927\n",
            "Epoch 8, Batch 1000, Loss: 0.2342\n",
            "Epoch 8, Batch 1100, Loss: 0.1885\n",
            "Epoch 8, Batch 1200, Loss: 0.1575\n",
            "Epoch 8, Batch 1300, Loss: 0.1571\n",
            "Epoch 8, Batch 1400, Loss: 0.1674\n",
            "Epoch 8, Batch 1500, Loss: 0.1372\n",
            "Epoch 8, Batch 1600, Loss: 0.1783\n",
            "Epoch 8, Batch 1700, Loss: 0.2215\n",
            "Epoch 8, Batch 1800, Loss: 0.2079\n",
            "Epoch 9, Batch 0, Loss: 0.0888\n",
            "Epoch 9, Batch 100, Loss: 0.1326\n",
            "Epoch 9, Batch 200, Loss: 0.1082\n",
            "Epoch 9, Batch 300, Loss: 0.1285\n",
            "Epoch 9, Batch 400, Loss: 0.1443\n",
            "Epoch 9, Batch 500, Loss: 0.1870\n",
            "Epoch 9, Batch 600, Loss: 0.2113\n",
            "Epoch 9, Batch 700, Loss: 0.1379\n",
            "Epoch 9, Batch 800, Loss: 0.1658\n",
            "Epoch 9, Batch 900, Loss: 0.1911\n",
            "Epoch 9, Batch 1000, Loss: 0.1518\n",
            "Epoch 9, Batch 1100, Loss: 0.1834\n",
            "Epoch 9, Batch 1200, Loss: 0.1402\n",
            "Epoch 9, Batch 1300, Loss: 0.1179\n",
            "Epoch 9, Batch 1400, Loss: 0.1417\n",
            "Epoch 9, Batch 1500, Loss: 0.1351\n",
            "Epoch 9, Batch 1600, Loss: 0.1618\n",
            "Epoch 9, Batch 1700, Loss: 0.1839\n",
            "Epoch 9, Batch 1800, Loss: 0.1026\n"
          ]
        }
      ],
      "source": [
        "import torch.optim as optim\n",
        "import torch.nn as nn\n",
        "import random\n",
        "\n",
        "# Loss Function (exclude padding)\n",
        "loss_fn = nn.CrossEntropyLoss(ignore_index=eng_word2int[PAD_TOKEN])\n",
        "\n",
        "# Optimizers\n",
        "encoder_optimizer = optim.AdamW(encoder.parameters())\n",
        "decoder_optimizer = optim.AdamW(decoder.parameters())\n",
        "\n",
        "# Number of epochs\n",
        "num_epochs = 10\n",
        "\n",
        "# Training Loop\n",
        "encoder.train()\n",
        "decoder.train()\n",
        "\n",
        "for epoch in range(num_epochs):\n",
        "    for i, (input_tensor, target_tensor) in enumerate(translation_dataloader):\n",
        "        input_tensor, target_tensor = input_tensor.to(DEVICE), target_tensor.to(DEVICE)\n",
        "\n",
        "        # Zero gradients of both optimizers\n",
        "        encoder_optimizer.zero_grad()\n",
        "        decoder_optimizer.zero_grad()\n",
        "\n",
        "        target_length = target_tensor.size(1)\n",
        "\n",
        "        # Encoder\n",
        "        _, encoder_hidden, encoder_cell = encoder(input_tensor)\n",
        "\n",
        "        # Decoder\n",
        "        decoder_input = torch.full((batch_size, 1), eng_word2int[SOS_TOKEN], dtype=torch.long).to(DEVICE)\n",
        "        decoder_hidden = encoder_hidden\n",
        "        decoder_cell = encoder_cell\n",
        "\n",
        "        # Randomly select a word index from the target sequence\n",
        "        random_word_index = random.randint(0, target_length - 1)\n",
        "\n",
        "        loss = 0\n",
        "\n",
        "        for di in range(target_length):\n",
        "            logits, decoder_hidden, decoder_cell  = decoder(decoder_input, decoder_hidden, decoder_cell)\n",
        "            #if di == random_word_index:\n",
        "            #    loss = loss_fn(logits, target_tensor[:, di])\n",
        "            #    break  # Only compute loss for the randomly selected word\n",
        "            loss += loss_fn(logits, target_tensor[:,di])\n",
        "            decoder_input = target_tensor[:, di].reshape(batch_size, 1)  # Teacher forcing\n",
        "\n",
        "\n",
        "        # Backpropagation\n",
        "        loss.backward()\n",
        "\n",
        "        encoder_optimizer.step()\n",
        "        decoder_optimizer.step()\n",
        "\n",
        "        if i % 100 == 0:  # Print loss every 10 batches\n",
        "            print(f'Epoch {epoch}, Batch {i}, Loss: {loss.item() / target_length:.4f}')\n"
      ]
    },
    {
      "cell_type": "code",
      "execution_count": null,
      "metadata": {
        "id": "zNJU75dyW8HF"
      },
      "outputs": [],
      "source": [
        "torch.save(encoder.state_dict(), \"encoder_weights.pt\")\n",
        "torch.save(decoder.state_dict(), \"decoder_weights.pt\")"
      ]
    },
    {
      "cell_type": "code",
      "execution_count": null,
      "metadata": {
        "colab": {
          "base_uri": "https://localhost:8080/",
          "height": 521
        },
        "id": "FwsiaxJIX1yo",
        "outputId": "05b25252-0ca5-4994-9a32-81c3f2b7aa73"
      },
      "outputs": [
        {
          "data": {
            "image/png": "[encoded data removed]",
            "text/plain": [
              "<Figure size 1200x600 with 1 Axes>"
            ]
          },
          "metadata": {},
          "output_type": "display_data"
        }
      ],
      "source": [
        "import matplotlib.pyplot as plt\n",
        "\n",
        "# Data: (epoch, batch, loss)\n",
        "data = [\n",
        "    (0, 0, 9.5360), (0, 100, 4.4330), (0, 200, 3.9501), (0, 300, 3.8989), (0, 400, 4.0696), (0, 500, 3.7652),\n",
        "    (0, 600, 2.8907), (0, 700, 3.1378), (0, 800, 3.4398), (0, 900, 3.7092), (0, 1000, 3.2223), (0, 1100, 2.9589),\n",
        "    (0, 1200, 3.1708), (0, 1300, 2.6093), (0, 1400, 2.5218), (0, 1500, 2.9872), (0, 1600, 2.6564), (0, 1700, 2.5744),\n",
        "    (0, 1800, 2.5317), (1, 0, 1.9298), (1, 100, 2.2183), (1, 200, 1.9669), (1, 300, 1.9175), (1, 400, 2.1452),\n",
        "    (1, 500, 2.2371), (1, 600, 2.0181), (1, 700, 2.3665), (1, 800, 2.0723), (1, 900, 2.3999), (1, 1000, 2.0791),\n",
        "    (1, 1100, 2.2464), (1, 1200, 2.1045), (1, 1300, 2.3880), (1, 1400, 1.7967), (1, 1500, 1.7661), (1, 1600, 1.6798),\n",
        "    (1, 1700, 2.0095), (1, 1800, 1.5248), (2, 0, 1.2919), (2, 100, 1.1479), (2, 200, 1.2680), (2, 300, 1.3421),\n",
        "    (2, 400, 1.2990), (2, 500, 0.9971), (2, 600, 1.1966), (2, 700, 1.1156), (2, 800, 0.9643), (2, 900, 0.8924),\n",
        "    (2, 1000, 0.9818), (2, 1100, 1.0293), (2, 1200, 0.8633), (2, 1300, 1.1247), (2, 1400, 1.0458), (2, 1500, 1.1008),\n",
        "    (2, 1600, 0.7458), (2, 1700, 1.1897), (2, 1800, 0.8686), (3, 0, 0.9117), (3, 100, 0.7177), (3, 200, 0.8511),\n",
        "    (3, 300, 0.5637), (3, 400, 0.6051), (3, 500, 0.5556), (3, 600, 0.7343), (3, 700, 0.8202), (3, 800, 0.6624),\n",
        "    (3, 900, 0.8995), (3, 1000, 0.6662), (3, 1100, 0.7197), (3, 1200, 0.7777), (3, 1300, 0.8428), (3, 1400, 0.7056),\n",
        "    (3, 1500, 0.8112), (3, 1600, 0.7972), (3, 1700, 0.7760), (3, 1800, 0.5446), (4, 0, 0.6468), (4, 100, 0.5314),\n",
        "    (4, 200, 0.4478), (4, 300, 0.4498), (4, 400, 0.4039), (4, 500, 0.4851), (4, 600, 0.5058), (4, 700, 0.5188),\n",
        "    (4, 800, 0.4613), (4, 900, 0.6002), (4, 1000, 0.4961), (4, 1100, 0.4399), (4, 1200, 0.4740), (4, 1300, 0.5996),\n",
        "    (4, 1400, 0.5889), (4, 1500, 0.5002), (4, 1600, 0.4712), (4, 1700, 0.5631), (4, 1800, 0.4612), (5, 0, 0.3608),\n",
        "    (5, 100, 0.4270), (5, 200, 0.3174), (5, 300, 0.3766), (5, 400, 0.3458), (5, 500, 0.3813), (5, 600, 0.3698),\n",
        "    (5, 700, 0.3322), (5, 800, 0.3707), (5, 900, 0.2907), (5, 1000, 0.3460), (5, 1100, 0.4332), (5, 1200, 0.3502),\n",
        "    (5, 1300, 0.4831), (5, 1400, 0.5178), (5, 1500, 0.5168), (5, 1600, 0.4231), (5, 1700, 0.3594), (5, 1800, 0.3209),\n",
        "    (6, 0, 0.2619), (6, 100, 0.3123), (6, 200, 0.3918), (6, 300, 0.3285), (6, 400, 0.3301), (6, 500, 0.2789),\n",
        "    (6, 600, 0.2427), (6, 700, 0.3597), (6, 800, 0.1834), (6, 900, 0.3827), (6, 1000, 0.2074), (6, 1100, 0.3172),\n",
        "    (6, 1200, 0.2527), (6, 1300, 0.3097), (6, 1400, 0.2355), (6, 1500, 0.3299), (6, 1600, 0.2467), (6, 1700, 0.4610),\n",
        "    (6, 1800, 0.3039), (7, 0, 0.2115), (7, 100, 0.1755), (7, 200, 0.2869), (7, 300, 0.1873), (7, 400, 0.1974),\n",
        "    (7, 500, 0.1961), (7, 600, 0.2290), (7, 700, 0.3896), (7, 800, 0.2226), (7, 900, 0.2974), (7, 1000, 0.2146),\n",
        "    (7, 1100, 0.1739), (7, 1200, 0.2350), (7, 1300, 0.2555), (7, 1400, 0.4435), (7, 1500, 0.2538), (7, 1600, 0.2544),\n",
        "    (7, 1700, 0.2312), (7, 1800, 0.2542), (8, 0, 0.1839), (8, 100, 0.1669), (8, 200, 0.1949), (8, 300, 0.2331),\n",
        "    (8, 400, 0.1321), (8, 500, 0.1199), (8, 600, 0.1275), (8, 700, 0.1909), (8, 800, 0.0928), (8, 900, 0.2041),\n",
        "    (8, 1000, 0.1379), (8, 1100, 0.2280), (8, 1200, 0.1960), (8, 1300, 0.2116), (8, 1400, 0.2163), (8, 1500, 0.2132),\n",
        "    (8, 1600, 0.1594), (8, 1700, 0.1673), (8, 1800, 0.1991), (9, 0, 0.1618), (9, 100, 0.1364), (9, 200, 0.1121),\n",
        "    (9, 300, 0.1110), (9, 400, 0.1555), (9, 500, 0.0963), (9, 600, 0.1199), (9, 700, 0.1187), (9, 800, 0.1534),\n",
        "    (9, 900, 0.1313), (9, 1000, 0.1145), (9, 1100, 0.2104), (9, 1200, 0.1728), (9, 1300, 0.2201), (9, 1400, 0.1665),\n",
        "    (9, 1500, 0.1830), (9, 1600, 0.2089), (9, 1700, 0.1394), (9, 1800, 0.1515)\n",
        "]\n",
        "\n",
        "# Convert data into plottable form\n",
        "global_step = []\n",
        "losses = []\n",
        "for epoch, batch, loss in data:\n",
        "    global_step.append(epoch * 2000 + batch)  # simple way to make x-axis continuous\n",
        "    losses.append(loss)\n",
        "\n",
        "# Plotting\n",
        "plt.figure(figsize=(12, 6))\n",
        "plt.plot(global_step, losses, marker='o', linestyle='-', linewidth=1)\n",
        "plt.title(\"Training Loss per Batch over Epochs\")\n",
        "plt.xlabel(\"Global Batch Step\")\n",
        "plt.ylabel(\"Loss\")\n",
        "plt.grid(True)\n",
        "plt.tight_layout()\n",
        "plt.show()"
      ]
    },
    {
      "cell_type": "code",
      "source": [
        "import os\n",
        "\n",
        "# List all files in the current directory\n",
        "for file in os.listdir():\n",
        "    print(file)"
      ],
      "metadata": {
        "colab": {
          "base_uri": "https://localhost:8080/"
        },
        "id": "XdpxiIaHci8O",
        "outputId": "bf55a7c9-4138-4f69-b1d0-7b4946ac614b"
      },
      "execution_count": null,
      "outputs": [
        {
          "output_type": "stream",
          "name": "stdout",
          "text": [
            ".config\n",
            "eng_ita_v2.txt\n",
            "encoder_weights.pt\n",
            "decoder_weights.pt\n",
            "sample_data\n"
          ]
        }
      ]
    },
    {
      "cell_type": "markdown",
      "source": [
        "# Load and **test**"
      ],
      "metadata": {
        "id": "PtIXa4wkiTha"
      }
    },
    {
      "cell_type": "code",
      "source": [
        "# First re-create the model architecture with same parameters\n",
        "encoder = Encoder(eng_vocab_size, embed_size, hidden_size, num_layers).to(DEVICE)\n",
        "decoder = Decoder(ita_vocab_size, embed_size, hidden_size, num_layers).to(DEVICE)\n",
        "\n",
        "# Move to device if needed\n",
        "encoder.to(DEVICE)\n",
        "decoder.to(DEVICE)\n",
        "\n",
        "# Then load the saved weights\n",
        "encoder.load_state_dict(torch.load(\"encoder_weights.pt\"))\n",
        "decoder.load_state_dict(torch.load(\"decoder_weights.pt\"))\n",
        "\n",
        "encoder.eval()\n",
        "decoder.eval()"
      ],
      "metadata": {
        "colab": {
          "base_uri": "https://localhost:8080/"
        },
        "id": "S0kUgO_Tbz_s",
        "outputId": "10a20975-e93a-4560-9322-3c19b82425de"
      },
      "execution_count": null,
      "outputs": [
        {
          "output_type": "execute_result",
          "data": {
            "text/plain": [
              "Decoder(\n",
              "  (embedding): Embedding(13677, 256)\n",
              "  (lstm): LSTM(256, 512, batch_first=True)\n",
              "  (fc): Linear(in_features=512, out_features=13677, bias=True)\n",
              ")"
            ]
          },
          "metadata": {},
          "execution_count": 25
        }
      ]
    },
    {
      "cell_type": "code",
      "execution_count": null,
      "metadata": {
        "colab": {
          "base_uri": "https://localhost:8080/"
        },
        "id": "XHW6-6UeVoDU",
        "outputId": "8b3e75ce-9255-46f4-f730-5393bb8951c8"
      },
      "outputs": [
        {
          "output_type": "stream",
          "name": "stdout",
          "text": [
            "Translated: amo il mio amico tom\n"
          ]
        }
      ],
      "source": [
        "sentence = \"i love my friend Tom\"\n",
        "translated_sentence = translate(encoder, decoder, sentence, eng_word2int, ita_int2word)\n",
        "print(\"Translated:\", translated_sentence)"
      ]
    }
  ],
  "metadata": {
    "accelerator": "GPU",
    "colab": {
      "gpuType": "T4",
      "provenance": []
    },
    "kernelspec": {
      "display_name": "Python 3",
      "name": "python3"
    },
    "language_info": {
      "name": "python"
    },
    "widgets": {
      "application/vnd.jupyter.widget-state+json": {
        "b6cc73e24c5a4f69a986f2ce639df315": {
          "model_module": "@jupyter-widgets/controls",
          "model_name": "HBoxModel",
          "model_module_version": "1.5.0",
          "state": {
            "_dom_classes": [],
            "_model_module": "@jupyter-widgets/controls",
            "_model_module_version": "1.5.0",
            "_model_name": "HBoxModel",
            "_view_count": null,
            "_view_module": "@jupyter-widgets/controls",
            "_view_module_version": "1.5.0",
            "_view_name": "HBoxView",
            "box_style": "",
            "children": [
              "IPY_MODEL_84faa0774c674f63a77caa24919f8703",
              "IPY_MODEL_7f7ab27b1a92413494e07703fa9a4163",
              "IPY_MODEL_350f4e1e1fce45e7ab6e828afa46f525"
            ],
            "layout": "IPY_MODEL_bd14484c68c040f493ab4667befb27e0"
          }
        },
        "84faa0774c674f63a77caa24919f8703": {
          "model_module": "@jupyter-widgets/controls",
          "model_name": "HTMLModel",
          "model_module_version": "1.5.0",
          "state": {
            "_dom_classes": [],
            "_model_module": "@jupyter-widgets/controls",
            "_model_module_version": "1.5.0",
            "_model_name": "HTMLModel",
            "_view_count": null,
            "_view_module": "@jupyter-widgets/controls",
            "_view_module_version": "1.5.0",
            "_view_name": "HTMLView",
            "description": "",
            "description_tooltip": null,
            "layout": "IPY_MODEL_42254463be3241a09387a23753347bc6",
            "placeholder": "​",
            "style": "IPY_MODEL_2a05b3b610404064b672b937f9352e95",
            "value": "Filter: 100%"
          }
        },
        "7f7ab27b1a92413494e07703fa9a4163": {
          "model_module": "@jupyter-widgets/controls",
          "model_name": "FloatProgressModel",
          "model_module_version": "1.5.0",
          "state": {
            "_dom_classes": [],
            "_model_module": "@jupyter-widgets/controls",
            "_model_module_version": "1.5.0",
            "_model_name": "FloatProgressModel",
            "_view_count": null,
            "_view_module": "@jupyter-widgets/controls",
            "_view_module_version": "1.5.0",
            "_view_name": "ProgressView",
            "bar_style": "success",
            "description": "",
            "description_tooltip": null,
            "layout": "IPY_MODEL_3293fb62d43a4b2282f9e45dcf4e7047",
            "max": 13646844,
            "min": 0,
            "orientation": "horizontal",
            "style": "IPY_MODEL_ee41383358cd4876b8181018d9ba10da",
            "value": 13646844
          }
        },
        "350f4e1e1fce45e7ab6e828afa46f525": {
          "model_module": "@jupyter-widgets/controls",
          "model_name": "HTMLModel",
          "model_module_version": "1.5.0",
          "state": {
            "_dom_classes": [],
            "_model_module": "@jupyter-widgets/controls",
            "_model_module_version": "1.5.0",
            "_model_name": "HTMLModel",
            "_view_count": null,
            "_view_module": "@jupyter-widgets/controls",
            "_view_module_version": "1.5.0",
            "_view_name": "HTMLView",
            "description": "",
            "description_tooltip": null,
            "layout": "IPY_MODEL_c2e3e414ee9f4cc98cc1f66a98889a92",
            "placeholder": "​",
            "style": "IPY_MODEL_2f3c3e48693144bfaf70466d41769771",
            "value": " 13646844/13646844 [01:22&lt;00:00, 167952.51 examples/s]"
          }
        },
        "bd14484c68c040f493ab4667befb27e0": {
          "model_module": "@jupyter-widgets/base",
          "model_name": "LayoutModel",
          "model_module_version": "1.2.0",
          "state": {
            "_model_module": "@jupyter-widgets/base",
            "_model_module_version": "1.2.0",
            "_model_name": "LayoutModel",
            "_view_count": null,
            "_view_module": "@jupyter-widgets/base",
            "_view_module_version": "1.2.0",
            "_view_name": "LayoutView",
            "align_content": null,
            "align_items": null,
            "align_self": null,
            "border": null,
            "bottom": null,
            "display": null,
            "flex": null,
            "flex_flow": null,
            "grid_area": null,
            "grid_auto_columns": null,
            "grid_auto_flow": null,
            "grid_auto_rows": null,
            "grid_column": null,
            "grid_gap": null,
            "grid_row": null,
            "grid_template_areas": null,
            "grid_template_columns": null,
            "grid_template_rows": null,
            "height": null,
            "justify_content": null,
            "justify_items": null,
            "left": null,
            "margin": null,
            "max_height": null,
            "max_width": null,
            "min_height": null,
            "min_width": null,
            "object_fit": null,
            "object_position": null,
            "order": null,
            "overflow": null,
            "overflow_x": null,
            "overflow_y": null,
            "padding": null,
            "right": null,
            "top": null,
            "visibility": null,
            "width": null
          }
        },
        "42254463be3241a09387a23753347bc6": {
          "model_module": "@jupyter-widgets/base",
          "model_name": "LayoutModel",
          "model_module_version": "1.2.0",
          "state": {
            "_model_module": "@jupyter-widgets/base",
            "_model_module_version": "1.2.0",
            "_model_name": "LayoutModel",
            "_view_count": null,
            "_view_module": "@jupyter-widgets/base",
            "_view_module_version": "1.2.0",
            "_view_name": "LayoutView",
            "align_content": null,
            "align_items": null,
            "align_self": null,
            "border": null,
            "bottom": null,
            "display": null,
            "flex": null,
            "flex_flow": null,
            "grid_area": null,
            "grid_auto_columns": null,
            "grid_auto_flow": null,
            "grid_auto_rows": null,
            "grid_column": null,
            "grid_gap": null,
            "grid_row": null,
            "grid_template_areas": null,
            "grid_template_columns": null,
            "grid_template_rows": null,
            "height": null,
            "justify_content": null,
            "justify_items": null,
            "left": null,
            "margin": null,
            "max_height": null,
            "max_width": null,
            "min_height": null,
            "min_width": null,
            "object_fit": null,
            "object_position": null,
            "order": null,
            "overflow": null,
            "overflow_x": null,
            "overflow_y": null,
            "padding": null,
            "right": null,
            "top": null,
            "visibility": null,
            "width": null
          }
        },
        "2a05b3b610404064b672b937f9352e95": {
          "model_module": "@jupyter-widgets/controls",
          "model_name": "DescriptionStyleModel",
          "model_module_version": "1.5.0",
          "state": {
            "_model_module": "@jupyter-widgets/controls",
            "_model_module_version": "1.5.0",
            "_model_name": "DescriptionStyleModel",
            "_view_count": null,
            "_view_module": "@jupyter-widgets/base",
            "_view_module_version": "1.2.0",
            "_view_name": "StyleView",
            "description_width": ""
          }
        },
        "3293fb62d43a4b2282f9e45dcf4e7047": {
          "model_module": "@jupyter-widgets/base",
          "model_name": "LayoutModel",
          "model_module_version": "1.2.0",
          "state": {
            "_model_module": "@jupyter-widgets/base",
            "_model_module_version": "1.2.0",
            "_model_name": "LayoutModel",
            "_view_count": null,
            "_view_module": "@jupyter-widgets/base",
            "_view_module_version": "1.2.0",
            "_view_name": "LayoutView",
            "align_content": null,
            "align_items": null,
            "align_self": null,
            "border": null,
            "bottom": null,
            "display": null,
            "flex": null,
            "flex_flow": null,
            "grid_area": null,
            "grid_auto_columns": null,
            "grid_auto_flow": null,
            "grid_auto_rows": null,
            "grid_column": null,
            "grid_gap": null,
            "grid_row": null,
            "grid_template_areas": null,
            "grid_template_columns": null,
            "grid_template_rows": null,
            "height": null,
            "justify_content": null,
            "justify_items": null,
            "left": null,
            "margin": null,
            "max_height": null,
            "max_width": null,
            "min_height": null,
            "min_width": null,
            "object_fit": null,
            "object_position": null,
            "order": null,
            "overflow": null,
            "overflow_x": null,
            "overflow_y": null,
            "padding": null,
            "right": null,
            "top": null,
            "visibility": null,
            "width": null
          }
        },
        "ee41383358cd4876b8181018d9ba10da": {
          "model_module": "@jupyter-widgets/controls",
          "model_name": "ProgressStyleModel",
          "model_module_version": "1.5.0",
          "state": {
            "_model_module": "@jupyter-widgets/controls",
            "_model_module_version": "1.5.0",
            "_model_name": "ProgressStyleModel",
            "_view_count": null,
            "_view_module": "@jupyter-widgets/base",
            "_view_module_version": "1.2.0",
            "_view_name": "StyleView",
            "bar_color": null,
            "description_width": ""
          }
        },
        "c2e3e414ee9f4cc98cc1f66a98889a92": {
          "model_module": "@jupyter-widgets/base",
          "model_name": "LayoutModel",
          "model_module_version": "1.2.0",
          "state": {
            "_model_module": "@jupyter-widgets/base",
            "_model_module_version": "1.2.0",
            "_model_name": "LayoutModel",
            "_view_count": null,
            "_view_module": "@jupyter-widgets/base",
            "_view_module_version": "1.2.0",
            "_view_name": "LayoutView",
            "align_content": null,
            "align_items": null,
            "align_self": null,
            "border": null,
            "bottom": null,
            "display": null,
            "flex": null,
            "flex_flow": null,
            "grid_area": null,
            "grid_auto_columns": null,
            "grid_auto_flow": null,
            "grid_auto_rows": null,
            "grid_column": null,
            "grid_gap": null,
            "grid_row": null,
            "grid_template_areas": null,
            "grid_template_columns": null,
            "grid_template_rows": null,
            "height": null,
            "justify_content": null,
            "justify_items": null,
            "left": null,
            "margin": null,
            "max_height": null,
            "max_width": null,
            "min_height": null,
            "min_width": null,
            "object_fit": null,
            "object_position": null,
            "order": null,
            "overflow": null,
            "overflow_x": null,
            "overflow_y": null,
            "padding": null,
            "right": null,
            "top": null,
            "visibility": null,
            "width": null
          }
        },
        "2f3c3e48693144bfaf70466d41769771": {
          "model_module": "@jupyter-widgets/controls",
          "model_name": "DescriptionStyleModel",
          "model_module_version": "1.5.0",
          "state": {
            "_model_module": "@jupyter-widgets/controls",
            "_model_module_version": "1.5.0",
            "_model_name": "DescriptionStyleModel",
            "_view_count": null,
            "_view_module": "@jupyter-widgets/base",
            "_view_module_version": "1.2.0",
            "_view_name": "StyleView",
            "description_width": ""
          }
        },
        "bd2c1dd2d8aa4a729ee67e4bd7fae407": {
          "model_module": "@jupyter-widgets/controls",
          "model_name": "HBoxModel",
          "model_module_version": "1.5.0",
          "state": {
            "_dom_classes": [],
            "_model_module": "@jupyter-widgets/controls",
            "_model_module_version": "1.5.0",
            "_model_name": "HBoxModel",
            "_view_count": null,
            "_view_module": "@jupyter-widgets/controls",
            "_view_module_version": "1.5.0",
            "_view_name": "HBoxView",
            "box_style": "",
            "children": [
              "IPY_MODEL_9fd7d6e4c7c44e4688fac88d04e80c4d",
              "IPY_MODEL_f823f8abbfb543d6b643c07fe65a7244",
              "IPY_MODEL_2cb38fc7798140678b7f81e7182103ee"
            ],
            "layout": "IPY_MODEL_0c54278595c04018b38e3d733e434f06"
          }
        },
        "9fd7d6e4c7c44e4688fac88d04e80c4d": {
          "model_module": "@jupyter-widgets/controls",
          "model_name": "HTMLModel",
          "model_module_version": "1.5.0",
          "state": {
            "_dom_classes": [],
            "_model_module": "@jupyter-widgets/controls",
            "_model_module_version": "1.5.0",
            "_model_name": "HTMLModel",
            "_view_count": null,
            "_view_module": "@jupyter-widgets/controls",
            "_view_module_version": "1.5.0",
            "_view_name": "HTMLView",
            "description": "",
            "description_tooltip": null,
            "layout": "IPY_MODEL_561d662529b649089f5701710939f0ab",
            "placeholder": "​",
            "style": "IPY_MODEL_12d344dc3d9d4827b19f58705220763f",
            "value": "Saving the dataset (1/1 shards): 100%"
          }
        },
        "f823f8abbfb543d6b643c07fe65a7244": {
          "model_module": "@jupyter-widgets/controls",
          "model_name": "FloatProgressModel",
          "model_module_version": "1.5.0",
          "state": {
            "_dom_classes": [],
            "_model_module": "@jupyter-widgets/controls",
            "_model_module_version": "1.5.0",
            "_model_name": "FloatProgressModel",
            "_view_count": null,
            "_view_module": "@jupyter-widgets/controls",
            "_view_module_version": "1.5.0",
            "_view_name": "ProgressView",
            "bar_style": "success",
            "description": "",
            "description_tooltip": null,
            "layout": "IPY_MODEL_baaf222cab9b42018d83659de0aac997",
            "max": 316,
            "min": 0,
            "orientation": "horizontal",
            "style": "IPY_MODEL_1b9b6eaef3e141ba90ba3719ba44ea1b",
            "value": 316
          }
        },
        "2cb38fc7798140678b7f81e7182103ee": {
          "model_module": "@jupyter-widgets/controls",
          "model_name": "HTMLModel",
          "model_module_version": "1.5.0",
          "state": {
            "_dom_classes": [],
            "_model_module": "@jupyter-widgets/controls",
            "_model_module_version": "1.5.0",
            "_model_name": "HTMLModel",
            "_view_count": null,
            "_view_module": "@jupyter-widgets/controls",
            "_view_module_version": "1.5.0",
            "_view_name": "HTMLView",
            "description": "",
            "description_tooltip": null,
            "layout": "IPY_MODEL_be62485573bb49dda6229e13cad02e17",
            "placeholder": "​",
            "style": "IPY_MODEL_843a047e166444e6b9922109d85f7f93",
            "value": " 316/316 [00:00&lt;00:00, 5421.21 examples/s]"
          }
        },
        "0c54278595c04018b38e3d733e434f06": {
          "model_module": "@jupyter-widgets/base",
          "model_name": "LayoutModel",
          "model_module_version": "1.2.0",
          "state": {
            "_model_module": "@jupyter-widgets/base",
            "_model_module_version": "1.2.0",
            "_model_name": "LayoutModel",
            "_view_count": null,
            "_view_module": "@jupyter-widgets/base",
            "_view_module_version": "1.2.0",
            "_view_name": "LayoutView",
            "align_content": null,
            "align_items": null,
            "align_self": null,
            "border": null,
            "bottom": null,
            "display": null,
            "flex": null,
            "flex_flow": null,
            "grid_area": null,
            "grid_auto_columns": null,
            "grid_auto_flow": null,
            "grid_auto_rows": null,
            "grid_column": null,
            "grid_gap": null,
            "grid_row": null,
            "grid_template_areas": null,
            "grid_template_columns": null,
            "grid_template_rows": null,
            "height": null,
            "justify_content": null,
            "justify_items": null,
            "left": null,
            "margin": null,
            "max_height": null,
            "max_width": null,
            "min_height": null,
            "min_width": null,
            "object_fit": null,
            "object_position": null,
            "order": null,
            "overflow": null,
            "overflow_x": null,
            "overflow_y": null,
            "padding": null,
            "right": null,
            "top": null,
            "visibility": null,
            "width": null
          }
        },
        "561d662529b649089f5701710939f0ab": {
          "model_module": "@jupyter-widgets/base",
          "model_name": "LayoutModel",
          "model_module_version": "1.2.0",
          "state": {
            "_model_module": "@jupyter-widgets/base",
            "_model_module_version": "1.2.0",
            "_model_name": "LayoutModel",
            "_view_count": null,
            "_view_module": "@jupyter-widgets/base",
            "_view_module_version": "1.2.0",
            "_view_name": "LayoutView",
            "align_content": null,
            "align_items": null,
            "align_self": null,
            "border": null,
            "bottom": null,
            "display": null,
            "flex": null,
            "flex_flow": null,
            "grid_area": null,
            "grid_auto_columns": null,
            "grid_auto_flow": null,
            "grid_auto_rows": null,
            "grid_column": null,
            "grid_gap": null,
            "grid_row": null,
            "grid_template_areas": null,
            "grid_template_columns": null,
            "grid_template_rows": null,
            "height": null,
            "justify_content": null,
            "justify_items": null,
            "left": null,
            "margin": null,
            "max_height": null,
            "max_width": null,
            "min_height": null,
            "min_width": null,
            "object_fit": null,
            "object_position": null,
            "order": null,
            "overflow": null,
            "overflow_x": null,
            "overflow_y": null,
            "padding": null,
            "right": null,
            "top": null,
            "visibility": null,
            "width": null
          }
        },
        "12d344dc3d9d4827b19f58705220763f": {
          "model_module": "@jupyter-widgets/controls",
          "model_name": "DescriptionStyleModel",
          "model_module_version": "1.5.0",
          "state": {
            "_model_module": "@jupyter-widgets/controls",
            "_model_module_version": "1.5.0",
            "_model_name": "DescriptionStyleModel",
            "_view_count": null,
            "_view_module": "@jupyter-widgets/base",
            "_view_module_version": "1.2.0",
            "_view_name": "StyleView",
            "description_width": ""
          }
        },
        "baaf222cab9b42018d83659de0aac997": {
          "model_module": "@jupyter-widgets/base",
          "model_name": "LayoutModel",
          "model_module_version": "1.2.0",
          "state": {
            "_model_module": "@jupyter-widgets/base",
            "_model_module_version": "1.2.0",
            "_model_name": "LayoutModel",
            "_view_count": null,
            "_view_module": "@jupyter-widgets/base",
            "_view_module_version": "1.2.0",
            "_view_name": "LayoutView",
            "align_content": null,
            "align_items": null,
            "align_self": null,
            "border": null,
            "bottom": null,
            "display": null,
            "flex": null,
            "flex_flow": null,
            "grid_area": null,
            "grid_auto_columns": null,
            "grid_auto_flow": null,
            "grid_auto_rows": null,
            "grid_column": null,
            "grid_gap": null,
            "grid_row": null,
            "grid_template_areas": null,
            "grid_template_columns": null,
            "grid_template_rows": null,
            "height": null,
            "justify_content": null,
            "justify_items": null,
            "left": null,
            "margin": null,
            "max_height": null,
            "max_width": null,
            "min_height": null,
            "min_width": null,
            "object_fit": null,
            "object_position": null,
            "order": null,
            "overflow": null,
            "overflow_x": null,
            "overflow_y": null,
            "padding": null,
            "right": null,
            "top": null,
            "visibility": null,
            "width": null
          }
        },
        "1b9b6eaef3e141ba90ba3719ba44ea1b": {
          "model_module": "@jupyter-widgets/controls",
          "model_name": "ProgressStyleModel",
          "model_module_version": "1.5.0",
          "state": {
            "_model_module": "@jupyter-widgets/controls",
            "_model_module_version": "1.5.0",
            "_model_name": "ProgressStyleModel",
            "_view_count": null,
            "_view_module": "@jupyter-widgets/base",
            "_view_module_version": "1.2.0",
            "_view_name": "StyleView",
            "bar_color": null,
            "description_width": ""
          }
        },
        "be62485573bb49dda6229e13cad02e17": {
          "model_module": "@jupyter-widgets/base",
          "model_name": "LayoutModel",
          "model_module_version": "1.2.0",
          "state": {
            "_model_module": "@jupyter-widgets/base",
            "_model_module_version": "1.2.0",
            "_model_name": "LayoutModel",
            "_view_count": null,
            "_view_module": "@jupyter-widgets/base",
            "_view_module_version": "1.2.0",
            "_view_name": "LayoutView",
            "align_content": null,
            "align_items": null,
            "align_self": null,
            "border": null,
            "bottom": null,
            "display": null,
            "flex": null,
            "flex_flow": null,
            "grid_area": null,
            "grid_auto_columns": null,
            "grid_auto_flow": null,
            "grid_auto_rows": null,
            "grid_column": null,
            "grid_gap": null,
            "grid_row": null,
            "grid_template_areas": null,
            "grid_template_columns": null,
            "grid_template_rows": null,
            "height": null,
            "justify_content": null,
            "justify_items": null,
            "left": null,
            "margin": null,
            "max_height": null,
            "max_width": null,
            "min_height": null,
            "min_width": null,
            "object_fit": null,
            "object_position": null,
            "order": null,
            "overflow": null,
            "overflow_x": null,
            "overflow_y": null,
            "padding": null,
            "right": null,
            "top": null,
            "visibility": null,
            "width": null
          }
        },
        "843a047e166444e6b9922109d85f7f93": {
          "model_module": "@jupyter-widgets/controls",
          "model_name": "DescriptionStyleModel",
          "model_module_version": "1.5.0",
          "state": {
            "_model_module": "@jupyter-widgets/controls",
            "_model_module_version": "1.5.0",
            "_model_name": "DescriptionStyleModel",
            "_view_count": null,
            "_view_module": "@jupyter-widgets/base",
            "_view_module_version": "1.2.0",
            "_view_name": "StyleView",
            "description_width": ""
          }
        }
      }
    }
  },
  "nbformat": 4,
  "nbformat_minor": 0
}