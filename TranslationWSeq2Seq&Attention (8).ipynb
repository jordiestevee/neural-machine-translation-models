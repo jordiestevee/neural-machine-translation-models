{
  "cells": [
    {
      "cell_type": "markdown",
      "metadata": {
        "id": "q8UFA_9gx5vQ"
      },
      "source": [
        "# Translation with a Sequence to Sequence Network and Attention"
      ]
    },
    {
      "cell_type": "markdown",
      "metadata": {
        "id": "avY-1hpeyInP"
      },
      "source": [
        "**Necessary imports**"
      ]
    },
    {
      "cell_type": "code",
      "execution_count": 31,
      "metadata": {
        "id": "_0qo5kBYNPu_",
        "colab": {
          "base_uri": "https://localhost:8080/"
        },
        "outputId": "bb286205-8939-4ec4-d2b9-e715f18ce35e"
      },
      "outputs": [
        {
          "output_type": "stream",
          "name": "stderr",
          "text": [
            "[nltk_data] Downloading package wordnet to /root/nltk_data...\n",
            "[nltk_data]   Package wordnet is already up-to-date!\n",
            "[nltk_data] Downloading package omw-1.4 to /root/nltk_data...\n",
            "[nltk_data]   Package omw-1.4 is already up-to-date!\n"
          ]
        },
        {
          "output_type": "stream",
          "name": "stdout",
          "text": [
            "Drive already mounted at /content/drive; to attempt to forcibly remount, call drive.mount(\"/content/drive\", force_remount=True).\n"
          ]
        }
      ],
      "source": [
        "from __future__ import unicode_literals, print_function, division\n",
        "\n",
        "# Standard library\n",
        "import os\n",
        "import re\n",
        "import time\n",
        "import math\n",
        "import pickle\n",
        "import csv\n",
        "import unicodedata\n",
        "import random\n",
        "from io import open\n",
        "from collections import Counter\n",
        "\n",
        "# Data manipulation\n",
        "import numpy as np\n",
        "from sklearn.model_selection import train_test_split\n",
        "\n",
        "# PyTorch\n",
        "import torch\n",
        "import torch.nn as nn\n",
        "from torch import optim\n",
        "import torch.nn.functional as F\n",
        "from torch.utils.data import TensorDataset, DataLoader, RandomSampler, Dataset\n",
        "from torch.nn.utils.rnn import pad_sequence\n",
        "\n",
        "# NLP and Metrics\n",
        "import nltk\n",
        "from nltk.translate.bleu_score import sentence_bleu, corpus_bleu, SmoothingFunction\n",
        "from nltk.translate.meteor_score import meteor_score\n",
        "nltk.download('wordnet')\n",
        "nltk.download('omw-1.4')\n",
        "\n",
        "# Visualization\n",
        "import matplotlib.pyplot as plt\n",
        "import matplotlib.ticker as ticker\n",
        "import seaborn as sns\n",
        "\n",
        "# Device configuration\n",
        "device = torch.device(\"cuda\" if torch.cuda.is_available() else \"cpu\")\n",
        "\n",
        "# Mount Google Drive\n",
        "from google.colab import drive\n",
        "drive.mount('/content/drive')"
      ]
    },
    {
      "cell_type": "markdown",
      "metadata": {
        "id": "5SHAZ9T4yaZB"
      },
      "source": [
        "## Loading data files and preparing data"
      ]
    },
    {
      "cell_type": "markdown",
      "metadata": {
        "id": "maOeYOWwyPpl"
      },
      "source": [
        "Data where dataset is stored and the results will be stored:"
      ]
    },
    {
      "cell_type": "code",
      "execution_count": 32,
      "metadata": {
        "id": "kEsAWryzPrrt"
      },
      "outputs": [],
      "source": [
        "data_path = '/content/drive/MyDrive/UPF_DeepLearning_2025/Project2/data/'\n",
        "results_path = '/content/drive/MyDrive/UPF_DeepLearning_2025/Project2/results/'"
      ]
    },
    {
      "cell_type": "markdown",
      "metadata": {
        "id": "s611thCAyleo"
      },
      "source": [
        "We will need a unique index per word to use as the inputs and targets of the networks later. To keep track of all this we will use a helper class called Lang which has word → index (word2index) and index → word (index2word) dictionaries, as well as a count of each word word2count which will be used to replace rare words later."
      ]
    },
    {
      "cell_type": "code",
      "execution_count": 33,
      "metadata": {
        "id": "4z41ikH0Nv4c"
      },
      "outputs": [],
      "source": [
        "SOS_token = 0\n",
        "EOS_token = 1\n",
        "UNK_token = 2\n",
        "PAD_token = 3\n",
        "\n",
        "class Lang:\n",
        "    def __init__(self, name):\n",
        "        self.name = name\n",
        "        self.word2index = {\"SOS\": 0, \"EOS\": 1, \"UNK\": 2, \"PAD\": 3}\n",
        "        self.index2word = {0: \"SOS\", 1: \"EOS\", 2: \"UNK\", 3: \"PAD\"}\n",
        "        self.word2count = {}\n",
        "        self.n_words = 4  # Count SOS, EOS, UNK, PAD\n",
        "\n",
        "    def addSentence(self, sentence):\n",
        "        for word in sentence.split(' '):\n",
        "            self.addWord(word)\n",
        "\n",
        "    def addWord(self, word):\n",
        "        if word not in self.word2index:\n",
        "            self.word2index[word] = self.n_words\n",
        "            self.word2count[word] = 1\n",
        "            self.index2word[self.n_words] = word\n",
        "            self.n_words += 1\n",
        "        else:\n",
        "            self.word2count[word] += 1"
      ]
    },
    {
      "cell_type": "markdown",
      "metadata": {
        "id": "5g9Hw_eSyqjK"
      },
      "source": [
        "The files are all in Unicode, we will turn Unicode characters to ASCII, make everything lowercase, and trim punctuation."
      ]
    },
    {
      "cell_type": "code",
      "execution_count": 34,
      "metadata": {
        "id": "50aFgUpfNyos"
      },
      "outputs": [],
      "source": [
        "# Turn a Unicode string to plain ASCII\n",
        "def unicodeToAscii(s):\n",
        "    return ''.join(\n",
        "        c for c in unicodedata.normalize('NFD', s)\n",
        "        if unicodedata.category(c) != 'Mn'\n",
        "    )\n",
        "\n",
        "# Lowercase, trim, and remove non-letter characters\n",
        "def normalizeString(s):\n",
        "    s = unicodeToAscii(s.lower().strip())\n",
        "    s = re.sub(r\"([.!?])\", r\" \\1\", s)\n",
        "    s = re.sub(r\"[^a-zA-Z!?]+\", r\" \", s)\n",
        "    return s.strip()"
      ]
    },
    {
      "cell_type": "markdown",
      "metadata": {
        "id": "mBabpGTNysxM"
      },
      "source": [
        "To read the data file we will split the file into lines, and then split lines into pairs."
      ]
    },
    {
      "cell_type": "markdown",
      "source": [
        "Since the dataset contains many example sentences and we want to speed up training, we'll trim it to include only short sentences and reduce the input and output vocabulary to the most common ones."
      ],
      "metadata": {
        "id": "57rhllO1usW1"
      }
    },
    {
      "cell_type": "code",
      "execution_count": 35,
      "metadata": {
        "id": "xtq2Zc_xN1ns"
      },
      "outputs": [],
      "source": [
        "MAX_LENGTH = 7 #Used to filter pairs. Just pick the ones with <=MAX_LENGTH words\n",
        "MIN_COUNT = 4 # Used to trim vocabulary. Pick words seen 4+ times.\n",
        "\n",
        "def trimRareWords(lang, min_count=MIN_COUNT):\n",
        "    keep_words = [k for k, v in lang.word2count.items() if v >= min_count]\n",
        "    print(f\"Trimming {lang.name}: from {lang.n_words} to {len(keep_words)} words\")\n",
        "\n",
        "    lang.word2index = {\"SOS\": 0, \"EOS\": 1, \"UNK\": 2}\n",
        "    lang.index2word = {0: \"SOS\", 1: \"EOS\", 2: \"UNK\"}\n",
        "    lang.n_words = 3\n",
        "    lang.word2count = {}\n",
        "\n",
        "    for word in keep_words:\n",
        "        lang.addWord(word)\n",
        "\n",
        "def filterPair(p):\n",
        "    return len(p[0].split(' ')) < MAX_LENGTH and \\\n",
        "        len(p[1].split(' ')) < MAX_LENGTH\n",
        "\n",
        "def filterPairs(pairs):\n",
        "    return [pair for pair in pairs if filterPair(pair)]\n",
        "\n",
        "def sentenceInVocab(lang, sentence):\n",
        "    return all(word in lang.word2index for word in sentence.split(' '))\n",
        "\n",
        "def filterPairsByVocab(pairs, input_lang, output_lang):\n",
        "    filtered_pairs = []\n",
        "    for en_sent, es_sent in pairs:\n",
        "        if sentenceInVocab(input_lang, en_sent) and sentenceInVocab(output_lang, es_sent):\n",
        "            filtered_pairs.append((en_sent, es_sent))\n",
        "    return filtered_pairs"
      ]
    },
    {
      "cell_type": "markdown",
      "source": [
        "In this section, we load the English-Spanish sentence pairs from the dataset and perform basic preprocessing:\n",
        "- Normalize and clean the text.\n",
        "- Optionally filter sentence pairs by length or random sampling based on the experiment setup.\n",
        "- Split the data into training and validation sets using a fixed random seed for reproducibility.\n",
        "- Build vocabularies for both the source (English) and target (Spanish) languages.\n",
        "- Trim rare words from the vocabulary to reduce model size and training complexity(for the second experiment)."
      ],
      "metadata": {
        "id": "QcIqtXPbLPQs"
      }
    },
    {
      "cell_type": "code",
      "source": [
        "def readLangsCSV(file_path):\n",
        "    pairs = []\n",
        "\n",
        "    with open(file_path, encoding='utf-8') as csvfile:\n",
        "        reader = csv.reader(csvfile)\n",
        "        next(reader)  # Skip header if present: \"en,es\"\n",
        "\n",
        "        for row in reader:\n",
        "            if len(row) < 2:\n",
        "                continue  # skip bad rows\n",
        "            en, es = row[0].strip(), row[1].strip()\n",
        "            if en and es:\n",
        "                # Normalize strings\n",
        "                en = normalizeString(en)\n",
        "                es = normalizeString(es)\n",
        "                pairs.append([en, es])\n",
        "\n",
        "    return pairs\n",
        "\n",
        "def prepareData(file_path, split_ratio=0.9):\n",
        "    # Split into training and validation\n",
        "    random.seed(42)\n",
        "    # Load all pairs\n",
        "    all_pairs = readLangsCSV(file_path)\n",
        "    print(\"Read %s sentence pairs\" % len(all_pairs))\n",
        "    # all_pairs = all_pairs[:10000] # pick first 10k samples. 1st experiment\n",
        "    all_pairs = filterPairs(all_pairs) # pick sentences with >= MAX_LENGTH. 2nd experiment\n",
        "    # all_pairs = random.sample(all_pairs, 60000) # pick 60k random pairs of samples. 3rd experiment\n",
        "\n",
        "    print(\"Trimmed to %s sentence pairs\" % len(all_pairs))\n",
        "\n",
        "    #Split into training and validating\n",
        "    train_pairs, val_pairs = train_test_split(all_pairs, test_size=(1 - split_ratio), random_state=42)\n",
        "    print(\"Training pairs: %s\" % len(train_pairs))\n",
        "    print(\"Validation pairs: %s\" % len(val_pairs))\n",
        "\n",
        "    # Create input/output langs based on training data\n",
        "    input_lang = Lang('en')\n",
        "    output_lang = Lang('es')\n",
        "\n",
        "    print(\"Counting words in training data...\")\n",
        "    for pair in train_pairs:\n",
        "        input_lang.addSentence(pair[0])\n",
        "        output_lang.addSentence(pair[1])\n",
        "\n",
        "    print(\"Counted words:\")\n",
        "    print(input_lang.name, input_lang.n_words)\n",
        "    print(output_lang.name, output_lang.n_words)\n",
        "\n",
        "    # Reduce vocabulary by reducing vocabulary to words seen MIN_COUNT+ times( 2nd experiment)\n",
        "    trimRareWords(input_lang)\n",
        "    trimRareWords(output_lang)\n",
        "\n",
        "    return input_lang, output_lang, train_pairs, val_pairs\n",
        "\n",
        "# Prepare data\n",
        "input_lang, output_lang, train_pairs, val_pairs = prepareData(data_path + 'data.csv')\n",
        "\n",
        "print(random.choice(train_pairs))"
      ],
      "metadata": {
        "id": "uyH8sHmftS1u",
        "colab": {
          "base_uri": "https://localhost:8080/"
        },
        "outputId": "577feeb5-3a02-4c42-cc08-3024f689b086"
      },
      "execution_count": 36,
      "outputs": [
        {
          "output_type": "stream",
          "name": "stdout",
          "text": [
            "Read 118964 sentence pairs\n",
            "Trimmed to 56713 sentence pairs\n",
            "Training pairs: 51041\n",
            "Validation pairs: 5672\n",
            "Counting words in training data...\n",
            "Counted words:\n",
            "en 8127\n",
            "es 14634\n",
            "Trimming en: from 8127 to 3354 words\n",
            "Trimming es: from 14634 to 4519 words\n",
            "['tom doesn t work here', 'tom no trabaja aqui']\n"
          ]
        }
      ]
    },
    {
      "cell_type": "code",
      "source": [
        "all_pairs = readLangsCSV(data_path + 'data.csv')\n",
        "print(\"Read %s sentence pairs\" % len(all_pairs))"
      ],
      "metadata": {
        "colab": {
          "base_uri": "https://localhost:8080/"
        },
        "id": "53LcF-01wIRR",
        "outputId": "47292165-76ce-42ce-d25b-0ac4ceabb3d9"
      },
      "execution_count": 37,
      "outputs": [
        {
          "output_type": "stream",
          "name": "stdout",
          "text": [
            "Read 118964 sentence pairs\n"
          ]
        }
      ]
    },
    {
      "cell_type": "markdown",
      "source": [
        "### Data Exploration and Visualization\n",
        "\n",
        "Before training, it is important to analyze the dataset to better understand its characteristics:\n",
        "- `plot_sentence_lengths(pairs)`: Plots the distribution of sentence lengths (in words) for both source (English) and target (Spanish) sentences.\n",
        "- `plot_vocab_distribution(pairs, top_k=20)`: Displays the top-K most frequent words in the source and target vocabularies."
      ],
      "metadata": {
        "id": "jNVtXLFELjhz"
      }
    },
    {
      "cell_type": "code",
      "source": [
        "def plot_sentence_lengths(pairs):\n",
        "    src_lengths = [len(s.split()) for s, _ in pairs]\n",
        "    tgt_lengths = [len(t.split()) for _, t in pairs]\n",
        "\n",
        "    plt.figure(figsize=(12, 6))\n",
        "    sns.histplot(src_lengths, color=\"blue\", label=\"Source\", bins=30)\n",
        "    sns.histplot(tgt_lengths, color=\"green\", label=\"Target\", bins=30)\n",
        "    plt.xlabel(\"Sentence Length (words)\")\n",
        "    plt.ylabel(\"Count\")\n",
        "    plt.title(\"Distribution of Sentence Lengths\")\n",
        "    plt.xlim(0, 25)  # max word length\n",
        "    plt.legend()\n",
        "    plt.show()\n",
        "\n",
        "def plot_vocab_distribution(pairs, top_k=20):\n",
        "    src_counter = Counter()\n",
        "    tgt_counter = Counter()\n",
        "\n",
        "    for src, tgt in pairs:\n",
        "        src_counter.update(src.split())\n",
        "        tgt_counter.update(tgt.split())\n",
        "\n",
        "    src_vocab_size = len(src_counter)\n",
        "    tgt_vocab_size = len(tgt_counter)\n",
        "\n",
        "    print(f\"Source Vocabulary Size: {src_vocab_size}\")\n",
        "    print(f\"Target Vocabulary Size: {tgt_vocab_size}\")\n",
        "\n",
        "    # Top-K frequent words\n",
        "    src_common = src_counter.most_common(top_k)\n",
        "    tgt_common = tgt_counter.most_common(top_k)\n",
        "\n",
        "    # Plot Source\n",
        "    words_src, counts_src = zip(*src_common)\n",
        "    plt.figure(figsize=(12, 6))\n",
        "    sns.barplot(x=list(counts_src), y=list(words_src), palette=\"Blues_d\", hue=list(words_src), legend=False)\n",
        "    plt.title(f\"Top {top_k} Frequent Words in Source\")\n",
        "    plt.xlabel(\"Frequency\")\n",
        "    plt.ylabel(\"Word\")\n",
        "    plt.show()\n",
        "\n",
        "    # Plot Target\n",
        "    words_tgt, counts_tgt = zip(*tgt_common)\n",
        "    plt.figure(figsize=(12, 6))\n",
        "    sns.barplot(x=list(counts_tgt), y=list(words_tgt), palette=\"Greens_d\", hue=list(words_tgt), legend=False)\n",
        "    plt.title(f\"Top {top_k} Frequent Words in Target\")\n",
        "    plt.xlabel(\"Frequency\")\n",
        "    plt.ylabel(\"Word\")\n",
        "    plt.show()"
      ],
      "metadata": {
        "id": "pI85U733GxF3"
      },
      "execution_count": 38,
      "outputs": []
    },
    {
      "cell_type": "code",
      "source": [
        "#Plot the word and sentence length distribution of the whole dataset(before trimming)\n",
        "plot_sentence_lengths(all_pairs)\n",
        "plot_vocab_distribution(all_pairs, top_k=20)"
      ],
      "metadata": {
        "colab": {
          "base_uri": "https://localhost:8080/",
          "height": 1000
        },
        "id": "H2cF_BReGz2B",
        "outputId": "796c2591-0843-4515-a061-a05ca46d2a18"
      },
      "execution_count": 39,
      "outputs": [
        {
          "output_type": "display_data",
          "data": {
            "text/plain": [
              "<Figure size 1200x600 with 1 Axes>"
            ],
            "image/png": "[encoded data removed]"
          },
          "metadata": {}
        },
        {
          "output_type": "stream",
          "name": "stdout",
          "text": [
            "Source Vocabulary Size: 12929\n",
            "Target Vocabulary Size: 24790\n"
          ]
        },
        {
          "output_type": "display_data",
          "data": {
            "text/plain": [
              "<Figure size 1200x600 with 1 Axes>"
            ],
            "image/png": "[encoded data removed]"
          },
          "metadata": {}
        },
        {
          "output_type": "display_data",
          "data": {
            "text/plain": [
              "<Figure size 1200x600 with 1 Axes>"
            ],
            "image/png": "[encoded data removed]"
          },
          "metadata": {}
        }
      ]
    },
    {
      "cell_type": "markdown",
      "source": [
        "### Preparing Training Data\n",
        "To train, for each pair we will need an input tensor (indexes of the words in the input sentence) and target tensor (indexes of the words in the target sentence). While creating these vectors we will append the EOS token to both sequences."
      ],
      "metadata": {
        "id": "Lz8myXRpGmxy"
      }
    },
    {
      "cell_type": "code",
      "source": [
        "def indexesFromSentence(lang, sentence):\n",
        "    return [lang.word2index.get(word, lang.word2index['UNK']) for word in sentence.split(' ')] # Index mapping, unknown words are replaced with 'UNK' index.\n",
        "\n",
        "def tensorFromSentence(lang, sentence):\n",
        "    indexes = indexesFromSentence(lang, sentence)\n",
        "    indexes.append(EOS_token)\n",
        "    return torch.tensor(indexes, dtype=torch.long, device=device).view(1, -1)\n",
        "\n",
        "def tensorsFromPair(pair):\n",
        "    input_tensor = tensorFromSentence(input_lang, pair[0])\n",
        "    target_tensor = tensorFromSentence(output_lang, pair[1])\n",
        "    return (input_tensor, target_tensor)\n",
        "\n",
        "def collate_fn(batch):\n",
        "    # Separates inputs and targets\n",
        "    inputs, targets = zip(*batch)\n",
        "\n",
        "    # Pad sequences dynamically\n",
        "    inputs_padded = pad_sequence(inputs, batch_first=True, padding_value=PAD_token) # takes a list of tensors of different lengths and pads them to the same length.\n",
        "    targets_padded = pad_sequence(targets, batch_first=True, padding_value=PAD_token)\n",
        "\n",
        "    return inputs_padded, targets_padded\n",
        "\n",
        "\n",
        "class TranslationDataset(Dataset):\n",
        "    def __init__(self, inputs, targets):\n",
        "        self.inputs = inputs\n",
        "        self.targets = targets\n",
        "\n",
        "    def __len__(self):\n",
        "        return len(self.inputs)\n",
        "\n",
        "    def __getitem__(self, idx):\n",
        "        return self.inputs[idx], self.targets[idx]\n",
        "\n",
        "def get_dataloader(batch_size, input_lang, output_lang, train_pairs):\n",
        "    inputs = []\n",
        "    targets = []\n",
        "\n",
        "    for inp, tgt in train_pairs:\n",
        "        inp_ids = indexesFromSentence(input_lang, inp)\n",
        "        tgt_ids = indexesFromSentence(output_lang, tgt)\n",
        "        inp_ids.append(EOS_token)\n",
        "        tgt_ids.append(EOS_token)\n",
        "        inputs.append(torch.LongTensor(inp_ids))\n",
        "        targets.append(torch.LongTensor(tgt_ids))\n",
        "\n",
        "    # Create Dataset\n",
        "    train_dataset = TranslationDataset(inputs, targets)\n",
        "\n",
        "    # Create DataLoader with collate_fn\n",
        "    train_dataloader = DataLoader(train_dataset, batch_size=batch_size, shuffle=True, collate_fn=collate_fn)\n",
        "\n",
        "    return train_dataloader"
      ],
      "metadata": {
        "id": "w0Ns-AOfvr6v"
      },
      "execution_count": 40,
      "outputs": []
    },
    {
      "cell_type": "code",
      "source": [
        "#Initialize the dataloader\n",
        "batch_size = 64\n",
        "train_dataloader = get_dataloader(batch_size, input_lang, output_lang, train_pairs)\n",
        "val_dataloader = get_dataloader(batch_size, input_lang, output_lang, val_pairs)"
      ],
      "metadata": {
        "id": "zOep45nLApgt"
      },
      "execution_count": 41,
      "outputs": []
    },
    {
      "cell_type": "markdown",
      "metadata": {
        "id": "azW0u7jMzJFD"
      },
      "source": [
        "## The Seq2Seq Model"
      ]
    },
    {
      "cell_type": "markdown",
      "metadata": {
        "id": "mj84zQMmzYyQ"
      },
      "source": [
        "### The encoder"
      ]
    },
    {
      "cell_type": "code",
      "source": [
        "class EncoderRNN(nn.Module):\n",
        "    def __init__(self, input_size, hidden_size, dropout_p=0.3):\n",
        "        super(EncoderRNN, self).__init__()\n",
        "        self.hidden_size = hidden_size\n",
        "        self.embedding = nn.Embedding(input_size, hidden_size)\n",
        "        self.gru = nn.GRU(hidden_size, hidden_size, batch_first=True)\n",
        "        self.dropout = nn.Dropout(dropout_p)\n",
        "\n",
        "    def forward(self, input):\n",
        "        embedded = self.dropout(self.embedding(input))\n",
        "        output, hidden = self.gru(embedded)\n",
        "        return output, hidden"
      ],
      "metadata": {
        "id": "tRguby58w2km"
      },
      "execution_count": 42,
      "outputs": []
    },
    {
      "cell_type": "markdown",
      "source": [
        "### Attention and Decoder"
      ],
      "metadata": {
        "id": "knfLATqHHOsY"
      }
    },
    {
      "cell_type": "code",
      "execution_count": 43,
      "metadata": {
        "id": "znz3_9vSN-o7"
      },
      "outputs": [],
      "source": [
        "class BahdanauAttention(nn.Module):\n",
        "    def __init__(self, hidden_size):\n",
        "        super(BahdanauAttention, self).__init__()\n",
        "        self.Wa = nn.Linear(hidden_size, hidden_size)\n",
        "        self.Ua = nn.Linear(hidden_size, hidden_size)\n",
        "        self.Va = nn.Linear(hidden_size, 1)\n",
        "\n",
        "    def forward(self, query, keys):\n",
        "       # Calculate attention scores\n",
        "        scores = self.Va(torch.tanh(self.Wa(query) + self.Ua(keys))) # (batch_size, seq_len, 1)\n",
        "\n",
        "        # Squeeze last dimension and unsqueeze to match (batch_size, 1, seq_len) for softmax\n",
        "        scores = scores.squeeze(2).unsqueeze(1)\n",
        "\n",
        "        # Softmax over encoder time steps to get attention weights\n",
        "        weights = F.softmax(scores, dim=-1)\n",
        "\n",
        "        # Softmax over encoder time steps to get attention weights\n",
        "        context = torch.bmm(weights, keys)\n",
        "\n",
        "        return context, weights\n",
        "\n",
        "class AttnDecoderRNN(nn.Module):\n",
        "    def __init__(self, hidden_size, output_size, dropout_p=0.3):\n",
        "        super(AttnDecoderRNN, self).__init__()\n",
        "        self.embedding = nn.Embedding(output_size, hidden_size)\n",
        "        self.attention = BahdanauAttention(hidden_size)\n",
        "        self.gru = nn.GRU(2 * hidden_size, hidden_size, batch_first=True)\n",
        "        self.out = nn.Linear(hidden_size, output_size)\n",
        "        self.dropout = nn.Dropout(dropout_p)\n",
        "\n",
        "    def forward(self, encoder_outputs, encoder_hidden, target_tensor=None):\n",
        "        batch_size = encoder_outputs.size(0)\n",
        "        decoder_input = torch.empty(batch_size, 1, dtype=torch.long, device=device).fill_(SOS_token)\n",
        "        decoder_hidden = encoder_hidden\n",
        "        decoder_outputs = []\n",
        "        attentions = []\n",
        "\n",
        "        if target_tensor is not None:\n",
        "            max_target_length = target_tensor.size(1)\n",
        "        else:\n",
        "            max_target_length = 50  # maximum steps if no target available (inference)\n",
        "\n",
        "        for i in range(max_target_length):\n",
        "            decoder_output, decoder_hidden, attn_weights = self.forward_step(\n",
        "                decoder_input, decoder_hidden, encoder_outputs\n",
        "            )\n",
        "            decoder_outputs.append(decoder_output)\n",
        "            attentions.append(attn_weights)\n",
        "\n",
        "            if target_tensor is not None:\n",
        "                decoder_input = target_tensor[:, i].unsqueeze(1)  # Teacher forcing\n",
        "            else:\n",
        "                _, topi = decoder_output.topk(1)\n",
        "                decoder_input = topi.squeeze(-1).detach()  # inference\n",
        "\n",
        "        decoder_outputs = torch.cat(decoder_outputs, dim=1) #Concatenate all output logits\n",
        "        decoder_outputs = F.log_softmax(decoder_outputs, dim=-1) #get log probabilities\n",
        "        attentions = torch.cat(attentions, dim=1) # Concatenate attention maps across time.\n",
        "\n",
        "        return decoder_outputs, decoder_hidden, attentions\n",
        "\n",
        "\n",
        "\n",
        "    def forward_step(self, input, hidden, encoder_outputs):\n",
        "        embedded =  self.dropout(self.embedding(input))\n",
        "\n",
        "        query = hidden.permute(1, 0, 2)\n",
        "        context, attn_weights = self.attention(query, encoder_outputs)\n",
        "        input_gru = torch.cat((embedded, context), dim=2)\n",
        "\n",
        "        output, hidden = self.gru(input_gru, hidden)\n",
        "        output = self.out(output)\n",
        "\n",
        "        return output, hidden, attn_weights"
      ]
    },
    {
      "cell_type": "markdown",
      "metadata": {
        "id": "C9CEW7UR0Vu5"
      },
      "source": [
        "## Training"
      ]
    },
    {
      "cell_type": "markdown",
      "metadata": {
        "id": "OZZ1uXSy0fjs"
      },
      "source": [
        "### Training the Model\n",
        "To train we run the input sentence through the encoder, and keep track of every output and the latest hidden state. Then the decoder is given the <SOS> token as its first input, and the last hidden state of the encoder as its first hidden state."
      ]
    },
    {
      "cell_type": "markdown",
      "source": [
        "- `train_epoch()`: Performs a single epoch of training, updating model parameters based on the computed loss.\n",
        "- `evaluate_epoch()`: Evaluates the model on the validation set without updating parameters, returning the average validation loss.\n",
        "- `asMinutes()` and `timeSince()`: Utility functions for formatting elapsed and estimated remaining training time, helping to monitor training progress.\n",
        "\n",
        "This setup allows us to monitor performance over time and ensures that we retain the best model during training."
      ],
      "metadata": {
        "id": "tRqjevszMV6p"
      }
    },
    {
      "cell_type": "code",
      "execution_count": 44,
      "metadata": {
        "id": "--JAtccOODai"
      },
      "outputs": [],
      "source": [
        "def train_epoch(dataloader, encoder, decoder, encoder_optimizer,\n",
        "          decoder_optimizer, criterion):\n",
        "    encoder.train()\n",
        "    decoder.train()\n",
        "    total_loss = 0\n",
        "    for data in dataloader:\n",
        "        input_tensor, target_tensor = data\n",
        "\n",
        "        encoder_optimizer.zero_grad()\n",
        "        decoder_optimizer.zero_grad()\n",
        "\n",
        "        encoder_outputs, encoder_hidden = encoder(input_tensor)\n",
        "        decoder_outputs, _, _ = decoder(encoder_outputs, encoder_hidden, target_tensor)\n",
        "\n",
        "        loss = criterion(\n",
        "            decoder_outputs.view(-1, decoder_outputs.size(-1)),\n",
        "            target_tensor.view(-1)\n",
        "        )\n",
        "        loss.backward()\n",
        "\n",
        "        encoder_optimizer.step()\n",
        "        decoder_optimizer.step()\n",
        "\n",
        "        total_loss += loss.item()\n",
        "\n",
        "    return total_loss / len(dataloader)\n",
        "\n",
        "def asMinutes(s):\n",
        "    m = math.floor(s / 60)\n",
        "    s -= m * 60\n",
        "    return '%dm %ds' % (m, s)\n",
        "\n",
        "def timeSince(since, percent):\n",
        "    now = time.time()\n",
        "    s = now - since\n",
        "    es = s / (percent)\n",
        "    rs = es - s\n",
        "    return '%s (- %s)' % (asMinutes(s), asMinutes(rs))"
      ]
    },
    {
      "cell_type": "code",
      "source": [
        "def evaluate_epoch(val_dataloader, encoder, decoder, criterion):\n",
        "    encoder.eval()\n",
        "    decoder.eval()\n",
        "    total_loss = 0\n",
        "\n",
        "    with torch.no_grad():\n",
        "        for input_tensor, target_tensor in val_dataloader:\n",
        "            input_tensor, target_tensor = input_tensor.to(device), target_tensor.to(device)\n",
        "\n",
        "            encoder_outputs, encoder_hidden = encoder(input_tensor)\n",
        "            decoder_outputs, decoder_hidden, _ = decoder(encoder_outputs, encoder_hidden, target_tensor)\n",
        "\n",
        "            # Flatten to compute loss\n",
        "            loss = criterion(decoder_outputs.view(-1, decoder_outputs.size(-1)), target_tensor.view(-1))\n",
        "            total_loss += loss.item()\n",
        "\n",
        "    return total_loss / len(val_dataloader)  # average loss"
      ],
      "metadata": {
        "id": "Ps8bzB2j7BSG"
      },
      "execution_count": 45,
      "outputs": []
    },
    {
      "cell_type": "markdown",
      "source": [
        "`train`: Complete Training Loop Across Epochs\n",
        "\n",
        "This function brings everything together. It loops over several epochs, and in each epoch it:\n",
        "\n",
        "- Calls `train_epoch` to train the model.\n",
        "- Calls `val_epoch` to evaluate it.\n",
        "- Tracks and stores the training and validation metrics (loss and accuracy).\n",
        "- Measures time per epoch.\n",
        "- Saves the model whenever it reaches a new best validation loss."
      ],
      "metadata": {
        "id": "X7iY4pYZM4d_"
      }
    },
    {
      "cell_type": "code",
      "execution_count": 46,
      "metadata": {
        "id": "uKiHySBqOHJp"
      },
      "outputs": [],
      "source": [
        "def train(train_dataloader, val_dataloader, encoder, decoder, n_epochs, learning_rate=0.001,\n",
        "          print_every=1, model_name: str = \"best_model.pt\"):\n",
        "\n",
        "    start = time.time()\n",
        "    train_losses = []\n",
        "    val_losses = []\n",
        "\n",
        "    encoder_optimizer = optim.Adam(encoder.parameters(), lr=learning_rate, weight_decay = 1e-4)\n",
        "    decoder_optimizer = optim.Adam(decoder.parameters(), lr=learning_rate, weight_decay = 1e-4)\n",
        "    criterion = nn.NLLLoss()\n",
        "\n",
        "    best_val_loss = float('inf')\n",
        "    best_epoch = 1\n",
        "\n",
        "    for epoch in range(1, n_epochs + 1):\n",
        "        encoder.train()\n",
        "        decoder.train()\n",
        "\n",
        "        loss = train_epoch(train_dataloader, encoder, decoder, encoder_optimizer, decoder_optimizer, criterion)\n",
        "        val_loss = evaluate_epoch(val_dataloader, encoder, decoder, criterion)\n",
        "\n",
        "        train_losses.append(loss)\n",
        "        val_losses.append(val_loss)\n",
        "\n",
        "        if epoch % print_every == 0:\n",
        "            print('%s (%d %d%%) Train Loss: %.4f, Val Loss: %.4f' % (timeSince(start, epoch / n_epochs),\n",
        "                                        epoch, epoch / n_epochs * 100, loss, val_loss))\n",
        "\n",
        "        if val_loss < best_val_loss:\n",
        "            best_val_loss = val_loss\n",
        "            best_epoch = epoch\n",
        "            # Save model\n",
        "            torch.save({\n",
        "                'encoder_state_dict': encoder.state_dict(),\n",
        "                'decoder_state_dict': decoder.state_dict(),\n",
        "                'encoder_optimizer_state_dict': encoder_optimizer.state_dict(),\n",
        "                'decoder_optimizer_state_dict': decoder_optimizer.state_dict(),\n",
        "                'loss': loss,\n",
        "                'epoch': epoch\n",
        "            }, os.path.join(results_path, f\"{model_name}.pt\"))\n",
        "\n",
        "    print(f\"Saved new best model at epoch {best_epoch} with val loss {best_val_loss:.4f}\")\n",
        "\n",
        "    return train_losses, val_losses"
      ]
    },
    {
      "cell_type": "markdown",
      "source": [
        "Next, we will:\n",
        "- Initialize and move the encoder and decoder models to the appropriate device (CPU or GPU).\n",
        "- Compute and print the total number of trainable parameters.\n",
        "- Start the training loop, saving the best model based on validation loss and saving the losses"
      ],
      "metadata": {
        "id": "OymEysJ7NWZU"
      }
    },
    {
      "cell_type": "code",
      "source": [
        "hidden_size = 256\n",
        "batch_size = 64\n",
        "\n",
        "encoder = EncoderRNN(input_lang.n_words, hidden_size).to(device)\n",
        "decoder = AttnDecoderRNN(hidden_size, output_lang.n_words).to(device)\n",
        "\n",
        "#Printing the total number of parameters\n",
        "total_params_enc = sum(p.numel() for p in encoder.parameters())\n",
        "print(f\"Total trainable parameters in encoder: {total_params_enc}\")\n",
        "total_params_dec = sum(p.numel() for p in decoder.parameters() if p.requires_grad)\n",
        "print(f\"Total trainable parameters in decoder: {total_params_dec}\")\n",
        "print(f\"Total trainable parameters: {total_params_enc + total_params_dec}\")\n",
        "\n",
        "losses_list, val_list = train(train_dataloader, val_dataloader, encoder, decoder, 20, print_every=1, model_name=\"alldataset.pt\" )"
      ],
      "metadata": {
        "colab": {
          "base_uri": "https://localhost:8080/"
        },
        "id": "uba_2cmMHfF7",
        "outputId": "935d4c57-6ecb-4845-f8ab-45721ef884ac"
      },
      "execution_count": 47,
      "outputs": [
        {
          "output_type": "stream",
          "name": "stdout",
          "text": [
            "Total trainable parameters in encoder: 1254144\n",
            "Total trainable parameters in decoder: 3042987\n",
            "Total trainable parameters: 4297131\n",
            "3m 21s (- 63m 42s) (1 5%) Train Loss: 2.9291, Val Loss: 2.1173\n",
            "6m 40s (- 60m 2s) (2 10%) Train Loss: 1.9461, Val Loss: 1.6529\n",
            "10m 0s (- 56m 42s) (3 15%) Train Loss: 1.5528, Val Loss: 1.3901\n",
            "13m 20s (- 53m 21s) (4 20%) Train Loss: 1.3105, Val Loss: 1.2340\n",
            "16m 42s (- 50m 6s) (5 25%) Train Loss: 1.1537, Val Loss: 1.1465\n",
            "20m 5s (- 46m 53s) (6 30%) Train Loss: 1.0533, Val Loss: 1.0966\n",
            "23m 32s (- 43m 42s) (7 35%) Train Loss: 0.9848, Val Loss: 1.0542\n",
            "26m 55s (- 40m 23s) (8 40%) Train Loss: 0.9359, Val Loss: 1.0296\n",
            "30m 25s (- 37m 11s) (9 45%) Train Loss: 0.8984, Val Loss: 1.0194\n",
            "33m 49s (- 33m 49s) (10 50%) Train Loss: 0.8707, Val Loss: 1.0090\n",
            "37m 24s (- 30m 36s) (11 55%) Train Loss: 0.8496, Val Loss: 0.9966\n",
            "40m 52s (- 27m 15s) (12 60%) Train Loss: 0.8323, Val Loss: 0.9892\n",
            "44m 13s (- 23m 48s) (13 65%) Train Loss: 0.8164, Val Loss: 0.9888\n",
            "47m 32s (- 20m 22s) (14 70%) Train Loss: 0.8045, Val Loss: 0.9807\n",
            "51m 5s (- 17m 1s) (15 75%) Train Loss: 0.7935, Val Loss: 0.9786\n",
            "55m 4s (- 13m 46s) (16 80%) Train Loss: 0.7837, Val Loss: 0.9826\n",
            "59m 6s (- 10m 25s) (17 85%) Train Loss: 0.7756, Val Loss: 0.9758\n",
            "63m 7s (- 7m 0s) (18 90%) Train Loss: 0.7662, Val Loss: 0.9683\n",
            "67m 12s (- 3m 32s) (19 95%) Train Loss: 0.7616, Val Loss: 0.9718\n",
            "71m 16s (- 0m 0s) (20 100%) Train Loss: 0.7541, Val Loss: 0.9672\n",
            "Saved new best model at epoch 20 with val loss 0.9672\n"
          ]
        }
      ]
    },
    {
      "cell_type": "markdown",
      "metadata": {
        "id": "9jv5ohgh0znV"
      },
      "source": [
        "## Plotting results\n",
        "Plot training and validation loss during training, using the array of loss\n",
        "and validation values saved while training."
      ]
    },
    {
      "cell_type": "code",
      "source": [
        "def plot_metrics(train_losses, val_losses):\n",
        "    epochs = range(1, len(train_losses) + 1)\n",
        "\n",
        "    plt.figure(figsize=(8, 5))\n",
        "    plt.plot(epochs, train_losses, marker='o', linestyle='-', color='blue', label='Train Loss')\n",
        "    plt.plot(epochs, val_losses, marker='o', linestyle='-', color='orange', label='Validation Loss')\n",
        "    plt.title('Training and Validation Loss Over Time')\n",
        "    plt.xlabel('Epoch')\n",
        "    plt.ylabel('Loss')\n",
        "    plt.legend()\n",
        "    plt.grid(True)\n",
        "    plt.show()"
      ],
      "metadata": {
        "id": "Dlbd8f-4vaAC"
      },
      "execution_count": 48,
      "outputs": []
    },
    {
      "cell_type": "code",
      "source": [
        "plot_metrics(losses_list, val_list)"
      ],
      "metadata": {
        "id": "PgzpbQa0HkfT",
        "colab": {
          "base_uri": "https://localhost:8080/",
          "height": 487
        },
        "outputId": "b6f15218-a9e9-4d36-8af3-707540ebdc54"
      },
      "execution_count": 49,
      "outputs": [
        {
          "output_type": "display_data",
          "data": {
            "text/plain": [
              "<Figure size 800x500 with 1 Axes>"
            ],
            "image/png": "[encoded data removed]"
          },
          "metadata": {}
        }
      ]
    },
    {
      "cell_type": "markdown",
      "metadata": {
        "id": "Hi9KxJwK1NCK"
      },
      "source": [
        "## Evaluation"
      ]
    },
    {
      "cell_type": "markdown",
      "source": [
        "We evaluated the model using `BLEU` and `METEOR` metrics:\n",
        "- `evaluate`: Generates the output sequence for a given input sentence using the trained encoder and decoder.\n"
      ],
      "metadata": {
        "id": "tn5bnWymOOgy"
      }
    },
    {
      "cell_type": "code",
      "execution_count": 68,
      "metadata": {
        "id": "51xRJDPQOKUC"
      },
      "outputs": [],
      "source": [
        "def evaluate(encoder, decoder, sentence, input_lang, output_lang):\n",
        "    with torch.no_grad():\n",
        "        input_tensor = tensorFromSentence(input_lang, sentence)\n",
        "\n",
        "        encoder_outputs, encoder_hidden = encoder(input_tensor)\n",
        "        decoder_outputs, decoder_hidden, decoder_attn = decoder(encoder_outputs, encoder_hidden)\n",
        "\n",
        "        _, topi = decoder_outputs.topk(1) # Take the index of the word with the highest score\n",
        "        decoded_ids = topi.squeeze()\n",
        "\n",
        "        decoded_words = []\n",
        "        for idx in decoded_ids:\n",
        "            if idx.item() == EOS_token:\n",
        "                decoded_words.append('<EOS>')\n",
        "                break\n",
        "            decoded_words.append(output_lang.index2word[idx.item()])\n",
        "    return decoded_words, decoder_attn"
      ]
    },
    {
      "cell_type": "markdown",
      "source": [
        "We can evaluate random traductions, to have a subjective metric of how the model is responding."
      ],
      "metadata": {
        "id": "bEJyzurt-ZBp"
      }
    },
    {
      "cell_type": "code",
      "execution_count": 51,
      "metadata": {
        "id": "vpU05qjTOMBP"
      },
      "outputs": [],
      "source": [
        "def evaluateRandomly(encoder, decoder, val_pairs, n=10):\n",
        "    for i in range(n):\n",
        "        pair = random.choice(val_pairs)\n",
        "        print('>', pair[0])\n",
        "        print('=', pair[1])\n",
        "        output_words, _ = evaluate(encoder, decoder, pair[0], input_lang, output_lang)\n",
        "        output_sentence = ' '.join(output_words)\n",
        "        print('<', output_sentence)\n",
        "        print('')"
      ]
    },
    {
      "cell_type": "markdown",
      "source": [
        "`evaluateRandomlyWBleuMeteor()` function randomly selects sample sentences from the validation set and displays:\n",
        "  - The input sentence (source).\n",
        "  - The ground truth translation (target).\n",
        "  - The model's predicted translation (output).\n",
        "  - The individual BLEU and METEOR scores for each sample."
      ],
      "metadata": {
        "id": "hZo4mWZIQ0GZ"
      }
    },
    {
      "cell_type": "code",
      "execution_count": 52,
      "metadata": {
        "id": "vRToc52aftY5"
      },
      "outputs": [],
      "source": [
        "def evaluateRandomlyWBleuMeteor(encoder, decoder, val_pairs, n=10):\n",
        "    smooth_fn = SmoothingFunction().method1\n",
        "    total_bleu = 0.0\n",
        "    total_meteor = 0.0\n",
        "\n",
        "    for i in range(n):\n",
        "        pair = random.choice(val_pairs)\n",
        "        print(f'> {pair[0]}')     # Input sentence\n",
        "        print(f'= {pair[1]}')     # Target sentence\n",
        "\n",
        "        output_words, _ = evaluate(encoder, decoder, pair[0], input_lang, output_lang)\n",
        "\n",
        "        # Remove <EOS> if present\n",
        "        if '<EOS>' in output_words:\n",
        "            output_words = output_words[:output_words.index('<EOS>')]\n",
        "\n",
        "        output_sentence = ' '.join(output_words)\n",
        "        print(f'< {output_sentence}')  # Predicted sentence\n",
        "\n",
        "        # Prepare references and hypothesis (tokenized)\n",
        "        reference = pair[1].split()  # list of tokens\n",
        "        hypothesis = output_words   # list of tokens\n",
        "\n",
        "        # Calculate BLEU\n",
        "        bleu_score = sentence_bleu([reference], hypothesis, smoothing_function=smooth_fn)\n",
        "        total_bleu += bleu_score\n",
        "\n",
        "        # Calculate METEOR\n",
        "        meteor = meteor_score([reference], hypothesis)\n",
        "        total_meteor += meteor\n",
        "\n",
        "        print(f'BLEU score: {bleu_score:.4f}')\n",
        "        print(f'METEOR score: {meteor:.4f}\\n')\n",
        "\n",
        "    avg_bleu = total_bleu / n\n",
        "    avg_meteor = total_meteor / n\n",
        "    print(f'Average BLEU score over {n} samples: {avg_bleu:.4f}')\n",
        "    print(f'Average METEOR score over {n} samples: {avg_meteor:.4f}')"
      ]
    },
    {
      "cell_type": "markdown",
      "source": [
        "- `computeCorpusBLEU`: Calculates the corpus-level BLEU score, a standard metric for evaluating machine translation quality, with smoothing to handle short sentences.\n",
        "- `compute_meteor`: Computes the average METEOR score, which considers synonyms and stemmed variations to provide a semantically richer evaluation."
      ],
      "metadata": {
        "id": "CEF-u99HQ5Rk"
      }
    },
    {
      "cell_type": "code",
      "source": [
        "def computeCorpusBLEU(encoder, decoder, eval_pairs, input_lang, output_lang):\n",
        "    smooth_fn = SmoothingFunction().method1\n",
        "\n",
        "    references = []\n",
        "    hypotheses = []\n",
        "\n",
        "    for pair in eval_pairs:\n",
        "        input_sentence = pair[0]\n",
        "        target_sentence = pair[1]\n",
        "\n",
        "        output_words, _ = evaluate(encoder, decoder, input_sentence, input_lang, output_lang)\n",
        "\n",
        "        # Remove <EOS> if present\n",
        "        if '<EOS>' in output_words:\n",
        "            output_words = output_words[:output_words.index('<EOS>')]\n",
        "\n",
        "        # Prepare reference and hypothesis\n",
        "        reference = [target_sentence.split()]  # List of tokens wrapped in a list\n",
        "        hypothesis = output_words\n",
        "\n",
        "        if len(hypothesis) == 0:\n",
        "            continue  # skip bad empty translations\n",
        "\n",
        "        references.append(reference)\n",
        "        hypotheses.append(hypothesis)\n",
        "\n",
        "    # Compute corpus BLEU\n",
        "    bleu_score = corpus_bleu(references, hypotheses, smoothing_function=smooth_fn)\n",
        "    print(f'BLEU score: {bleu_score:.4f}')\n",
        "    return bleu_score\n",
        "\n",
        "def compute_meteor(encoder, decoder, val_pairs, input_lang, output_lang):\n",
        "    total_meteor = 0.0\n",
        "\n",
        "    for pair in val_pairs:\n",
        "        input_sentence = pair[0]\n",
        "        reference_sentence = pair[1]\n",
        "\n",
        "        # Get model prediction\n",
        "        output_words, _ = evaluate(encoder, decoder, input_sentence, input_lang, output_lang)\n",
        "        predicted_sentence = ' '.join(output_words).replace('<EOS>', '').strip()\n",
        "\n",
        "        # Remove <EOS> if present\n",
        "        if '<EOS>' in output_words:\n",
        "            output_words = output_words[:output_words.index('<EOS>')]\n",
        "\n",
        "        # Prepare for METEOR\n",
        "        reference = [reference_sentence.split()]  # Tokenize reference\n",
        "        hypothesis = predicted_sentence.split()   # Tokenize hypothesis\n",
        "\n",
        "        # Compute METEOR\n",
        "        score = meteor_score(reference, hypothesis)\n",
        "        total_meteor += score\n",
        "\n",
        "    avg_meteor = total_meteor / len(val_pairs)\n",
        "    print(f'Average METEOR: {avg_meteor:.4f}')\n",
        "    return avg_meteor"
      ],
      "metadata": {
        "id": "YkEugN0wyx7E"
      },
      "execution_count": 53,
      "outputs": []
    },
    {
      "cell_type": "code",
      "execution_count": 54,
      "metadata": {
        "id": "nWQ6PuZvOQAt",
        "colab": {
          "base_uri": "https://localhost:8080/"
        },
        "outputId": "00610845-0fc6-43f1-b49f-a373e69e7ea7"
      },
      "outputs": [
        {
          "output_type": "stream",
          "name": "stdout",
          "text": [
            "> keep smiling\n",
            "= sigan sonriendo\n",
            "< manten sonriendo UNK\n",
            "BLEU score: 0.1136\n",
            "METEOR score: 0.2381\n",
            "\n",
            "> tom is interested in mountaineering\n",
            "= tom esta interesado en el montanismo\n",
            "< tom esta interesado en la UNK\n",
            "BLEU score: 0.5081\n",
            "METEOR score: 0.6615\n",
            "\n",
            "> were you here last week ?\n",
            "= estuviste aqui la semana pasada ?\n",
            "< estabas aqui la semana pasada ?\n",
            "BLEU score: 0.7598\n",
            "METEOR score: 0.8300\n",
            "\n",
            "> i get anything i want\n",
            "= yo obtengo lo que quiero\n",
            "< entiendo lo que quiero\n",
            "BLEU score: 0.3097\n",
            "METEOR score: 0.6009\n",
            "\n",
            "> i have a stomachache doctor\n",
            "= doctor me duele mi estomago\n",
            "< tengo un UNK de UNK\n",
            "BLEU score: 0.0000\n",
            "METEOR score: 0.0000\n",
            "\n",
            "> he looks older than my brother\n",
            "= el parece mayor que mi hermano\n",
            "< el parece mayor que mi hermano\n",
            "BLEU score: 1.0000\n",
            "METEOR score: 0.9977\n",
            "\n",
            "> children always want to become adults\n",
            "= los ninos siempre quieren hacerse mayores\n",
            "< los ninos siempre quieren ser UNK\n",
            "BLEU score: 0.5081\n",
            "METEOR score: 0.6615\n",
            "\n",
            "> tom didn t seem to care\n",
            "= a tom no parecia importarle\n",
            "< tom no se UNK\n",
            "BLEU score: 0.1323\n",
            "METEOR score: 0.3827\n",
            "\n",
            "> take this or that\n",
            "= toma este o ese\n",
            "< UNK eso o eso\n",
            "BLEU score: 0.0803\n",
            "METEOR score: 0.1250\n",
            "\n",
            "> there s no one missing\n",
            "= no falta nadie\n",
            "< no hay un falta\n",
            "BLEU score: 0.0955\n",
            "METEOR score: 0.3226\n",
            "\n",
            "Average BLEU score over 10 samples: 0.3508\n",
            "Average METEOR score over 10 samples: 0.4820\n"
          ]
        }
      ],
      "source": [
        "encoder.eval()\n",
        "decoder.eval()\n",
        "evaluateRandomlyWBleuMeteor(encoder, decoder, val_pairs)"
      ]
    },
    {
      "cell_type": "code",
      "source": [
        "bleu_score = computeCorpusBLEU(encoder, decoder, val_pairs, input_lang, output_lang)"
      ],
      "metadata": {
        "id": "tPW51fyz08I1",
        "colab": {
          "base_uri": "https://localhost:8080/"
        },
        "outputId": "720a97c1-2062-4e6b-8bb5-d08d4c0c458e"
      },
      "execution_count": 55,
      "outputs": [
        {
          "output_type": "stream",
          "name": "stdout",
          "text": [
            "BLEU score: 0.2965\n"
          ]
        }
      ]
    },
    {
      "cell_type": "code",
      "source": [
        "meteor = compute_meteor(encoder, decoder, val_pairs, input_lang, output_lang)"
      ],
      "metadata": {
        "id": "bjLI1es9eCnQ",
        "colab": {
          "base_uri": "https://localhost:8080/"
        },
        "outputId": "2bd3fd96-fa8f-42f7-e859-380db85583ca"
      },
      "execution_count": 56,
      "outputs": [
        {
          "output_type": "stream",
          "name": "stdout",
          "text": [
            "Average METEOR: 0.5295\n"
          ]
        }
      ]
    },
    {
      "cell_type": "markdown",
      "metadata": {
        "id": "ts8pK1zr1mN3"
      },
      "source": [
        "## Visualizing Attention"
      ]
    },
    {
      "cell_type": "markdown",
      "source": [
        "Attention visualizations help explain the model's behavior, highlighting how it aligns source and target tokens during translation.\n",
        "\n",
        "- `showAttention()`: Visualizes the attention weights as a heatmap, showing which input tokens the decoder attends to at each output step.\n",
        "- `evaluateAndShowAttention()`: Generates a prediction for a given input sentence and displays its corresponding attention map.\n",
        "- `showRandomValidationAttention(n)`: Randomly selects sentences from the input set of pairs and visualizes their attention."
      ],
      "metadata": {
        "id": "-WXvW-QFPxQ-"
      }
    },
    {
      "cell_type": "code",
      "execution_count": 69,
      "metadata": {
        "id": "WLFDUcx0OTFW"
      },
      "outputs": [],
      "source": [
        "def showAttention(input_sentence, output_words, attentions):\n",
        "    fig = plt.figure()\n",
        "    ax = fig.add_subplot(111)\n",
        "    cax = ax.matshow(attentions.cpu().numpy(), cmap='bone')\n",
        "    fig.colorbar(cax)\n",
        "\n",
        "    # Token list for x-axis and y-axis\n",
        "    input_tokens = input_sentence.split(' ') + ['<EOS>']\n",
        "    output_tokens = output_words\n",
        "\n",
        "    # Set ticks and labels explicitly\n",
        "    ax.set_xticks(range(len(input_tokens)))\n",
        "    ax.set_xticklabels(input_tokens, rotation=90)\n",
        "\n",
        "    ax.set_yticks(range(len(output_tokens)))\n",
        "    ax.set_yticklabels(output_tokens)\n",
        "\n",
        "    # Show label at every tick\n",
        "    ax.xaxis.set_major_locator(ticker.MultipleLocator(1))\n",
        "    ax.yaxis.set_major_locator(ticker.MultipleLocator(1))\n",
        "\n",
        "    plt.show()\n",
        "\n",
        "\n",
        "def evaluateAndShowAttention(input_sentence):\n",
        "    output_words, attentions = evaluate(encoder, decoder, input_sentence, input_lang, output_lang)\n",
        "    print('input =', input_sentence)\n",
        "    print('output =', ' '.join(output_words))\n",
        "    showAttention(input_sentence, output_words, attentions[0, :len(output_words), :])\n",
        "\n",
        "\n",
        "def showRandomValidationAttention(n=5, pairs=val_pairs):\n",
        "    for _ in range(n):\n",
        "        pair = random.choice(pairs)\n",
        "        input_sentence = pair[0]  # English sentence\n",
        "        evaluateAndShowAttention(input_sentence)"
      ]
    },
    {
      "cell_type": "markdown",
      "source": [
        "Print attention matrix for 3 randomly picked sentances from validation"
      ],
      "metadata": {
        "id": "XJkBrmlbPOiZ"
      }
    },
    {
      "cell_type": "code",
      "source": [
        "showRandomValidationAttention(3, val_pairs)"
      ],
      "metadata": {
        "id": "l_gsrhvkxXaD",
        "colab": {
          "base_uri": "https://localhost:8080/",
          "height": 1000
        },
        "outputId": "d3032d0b-6924-43e9-c02b-e06fab7359b2"
      },
      "execution_count": 73,
      "outputs": [
        {
          "output_type": "stream",
          "name": "stdout",
          "text": [
            "input = nobody has solved the problem\n",
            "output = nadie ha resuelto el problema <EOS>\n"
          ]
        },
        {
          "output_type": "display_data",
          "data": {
            "text/plain": [
              "<Figure size 640x480 with 2 Axes>"
            ],
            "image/png": "[encoded data removed]"
          },
          "metadata": {}
        },
        {
          "output_type": "stream",
          "name": "stdout",
          "text": [
            "input = tom stole something from my house\n",
            "output = tom robo algo de mi casa <EOS>\n"
          ]
        },
        {
          "output_type": "display_data",
          "data": {
            "text/plain": [
              "<Figure size 640x480 with 2 Axes>"
            ],
            "image/png": "[encoded data removed]"
          },
          "metadata": {}
        },
        {
          "output_type": "stream",
          "name": "stdout",
          "text": [
            "input = where do you live ?\n",
            "output = donde vives ? <EOS>\n"
          ]
        },
        {
          "output_type": "display_data",
          "data": {
            "text/plain": [
              "<Figure size 640x480 with 2 Axes>"
            ],
            "image/png": "[encoded data removed]"
          },
          "metadata": {}
        }
      ]
    },
    {
      "cell_type": "markdown",
      "metadata": {
        "id": "9H5OBtJ3s50h"
      },
      "source": [
        "# Add Pretrained Word Embeddings\n",
        "Now, we will use pretrained embeddings (Word2Vec) to improve translation performance by leveraging existing semantic knowledge of words. We will:\n",
        "- Load pretrained embeddings (from Gensim).\n",
        "\n",
        "- Create an embedding matrix aligned with the vocabulary.\n",
        "\n",
        "- Define new encoder and decoder using these weights.\n",
        "\n",
        "- Initialize your model's embedding layer with this matrix."
      ]
    },
    {
      "cell_type": "markdown",
      "metadata": {
        "id": "IbXiYRE_3no-"
      },
      "source": [
        "## Preprocessing\n",
        "Load Word2Vec Embeddings\n",
        "- Loads a pretrained Word2Vec model trained on Google News.\n",
        "\n",
        "- Each word is mapped to a 300-dimensional vector.\n",
        "\n",
        "- This model is ~1.5 GB and has a large vocabulary."
      ]
    },
    {
      "cell_type": "markdown",
      "source": [
        "This uninstall/install commands  might be necessary for version compatibility\n",
        "Restart session if necessary"
      ],
      "metadata": {
        "id": "wAUUyWqnWnW9"
      }
    },
    {
      "cell_type": "code",
      "source": [
        "#!pip uninstall -y gensim numpy scipy\n",
        "#!pip install numpy==1.23.5 scipy==1.10.1 gensim==4.3.1"
      ],
      "metadata": {
        "id": "heBgqp4nWb-v"
      },
      "execution_count": 59,
      "outputs": []
    },
    {
      "source": [
        "import gensim.downloader as api\n",
        "\n",
        "# Load pretrained word2vec vectors\n",
        "word2vec = api.load(\"word2vec-google-news-300\") # 1.5 GB"
      ],
      "cell_type": "code",
      "metadata": {
        "id": "tpieWvFo1x7k",
        "colab": {
          "base_uri": "https://localhost:8080/",
          "height": 367
        },
        "outputId": "8bfbfd67-43a6-4671-e2d9-6cc2248ae9b9"
      },
      "execution_count": 60,
      "outputs": [
        {
          "output_type": "error",
          "ename": "ModuleNotFoundError",
          "evalue": "No module named 'gensim'",
          "traceback": [
            "\u001b[0;31m---------------------------------------------------------------------------\u001b[0m",
            "\u001b[0;31mModuleNotFoundError\u001b[0m                       Traceback (most recent call last)",
            "\u001b[0;32m<ipython-input-60-22ab81c81b52>\u001b[0m in \u001b[0;36m<cell line: 0>\u001b[0;34m()\u001b[0m\n\u001b[0;32m----> 1\u001b[0;31m \u001b[0;32mimport\u001b[0m \u001b[0mgensim\u001b[0m\u001b[0;34m.\u001b[0m\u001b[0mdownloader\u001b[0m \u001b[0;32mas\u001b[0m \u001b[0mapi\u001b[0m\u001b[0;34m\u001b[0m\u001b[0;34m\u001b[0m\u001b[0m\n\u001b[0m\u001b[1;32m      2\u001b[0m \u001b[0;34m\u001b[0m\u001b[0m\n\u001b[1;32m      3\u001b[0m \u001b[0;31m# Load pretrained word2vec vectors\u001b[0m\u001b[0;34m\u001b[0m\u001b[0;34m\u001b[0m\u001b[0m\n\u001b[1;32m      4\u001b[0m \u001b[0mword2vec\u001b[0m \u001b[0;34m=\u001b[0m \u001b[0mapi\u001b[0m\u001b[0;34m.\u001b[0m\u001b[0mload\u001b[0m\u001b[0;34m(\u001b[0m\u001b[0;34m\"word2vec-google-news-300\"\u001b[0m\u001b[0;34m)\u001b[0m \u001b[0;31m# 1.5 GB\u001b[0m\u001b[0;34m\u001b[0m\u001b[0;34m\u001b[0m\u001b[0m\n",
            "\u001b[0;31mModuleNotFoundError\u001b[0m: No module named 'gensim'",
            "",
            "\u001b[0;31m---------------------------------------------------------------------------\u001b[0;32m\nNOTE: If your import is failing due to a missing package, you can\nmanually install dependencies using either !pip or !apt.\n\nTo view examples of installing some common dependencies, click the\n\"Open Examples\" button below.\n\u001b[0;31m---------------------------------------------------------------------------\u001b[0m\n"
          ],
          "errorDetails": {
            "actions": [
              {
                "action": "open_url",
                "actionText": "Open Examples",
                "url": "/notebooks/snippets/importing_libraries.ipynb"
              }
            ]
          }
        }
      ]
    },
    {
      "cell_type": "markdown",
      "metadata": {
        "id": "fkeaGbv030QU"
      },
      "source": [
        "Build an embedding matrix\n",
        "- Construct an embedding_matrix that aligns with your vocabulary input_lang.word2index.\n",
        "\n",
        "- For words not found in Word2Vec, you initialize random vectors.\n",
        "\n",
        "- This matrix will be used to initialize the weights of a PyTorch embedding layer."
      ]
    },
    {
      "cell_type": "code",
      "execution_count": null,
      "metadata": {
        "id": "okqfXNAzW13K"
      },
      "outputs": [],
      "source": [
        "embedding_dim = 300\n",
        "vocab_size = len(input_lang.word2index)\n",
        "embedding_matrix = np.zeros((vocab_size, embedding_dim))\n",
        "\n",
        "for word, i in input_lang.word2index.items():\n",
        "    if word in word2vec:\n",
        "        embedding_matrix[i] = word2vec[word]\n",
        "    else:\n",
        "        embedding_matrix[i] = np.random.normal(scale=0.6, size=(embedding_dim))"
      ]
    },
    {
      "cell_type": "markdown",
      "metadata": {
        "id": "8mlV5Q0q4SKK"
      },
      "source": [
        "## Model Architecture\n",
        "EncoderRNNPretrained\n",
        "- Uses the embedding layer → dropout → GRU\n",
        "- Accepts input sequences, embeds them, and processes with a GRU to produce hidden states.\n",
        "\n",
        "Same decoder as before"
      ]
    },
    {
      "cell_type": "code",
      "execution_count": null,
      "metadata": {
        "id": "zBQahfqQW9o0"
      },
      "outputs": [],
      "source": [
        "class EncoderRNNPretrained(nn.Module):\n",
        "    def __init__(self, input_size, hidden_size, embedding_layer, dropout_p=0.3):\n",
        "        super(EncoderRNNPretrained, self).__init__()\n",
        "        self.hidden_size = hidden_size\n",
        "        self.embedding = embedding_layer\n",
        "        self.gru = nn.GRU(hidden_size, hidden_size, batch_first=True)\n",
        "        self.dropout = nn.Dropout(dropout_p)\n",
        "\n",
        "    def forward(self, input):\n",
        "        embedded = self.dropout(self.embedding(input))\n",
        "        output, hidden = self.gru(embedded)\n",
        "        return output, hidden\n",
        "\n",
        "\n",
        "class AttnDecoderRNN(nn.Module):\n",
        "    def __init__(self, hidden_size, output_size, dropout_p=0.3):\n",
        "        super(AttnDecoderRNN, self).__init__()\n",
        "        self.embedding = nn.Embedding(output_size, hidden_size)\n",
        "        self.attention = BahdanauAttention(hidden_size)\n",
        "        self.gru = nn.GRU(2 * hidden_size, hidden_size, batch_first=True)\n",
        "        self.out = nn.Linear(hidden_size, output_size)\n",
        "        self.dropout = nn.Dropout(dropout_p)\n",
        "\n",
        "    def forward(self, encoder_outputs, encoder_hidden, target_tensor=None):\n",
        "        batch_size = encoder_outputs.size(0)\n",
        "        decoder_input = torch.empty(batch_size, 1, dtype=torch.long, device=device).fill_(SOS_token)\n",
        "        decoder_hidden = encoder_hidden\n",
        "        decoder_outputs = []\n",
        "        attentions = []\n",
        "\n",
        "        if target_tensor is not None:\n",
        "            max_target_length = target_tensor.size(1)\n",
        "        else:\n",
        "            max_target_length = 50  # maximum steps if no target available (inference)\n",
        "\n",
        "        for i in range(max_target_length):\n",
        "            decoder_output, decoder_hidden, attn_weights = self.forward_step(\n",
        "                decoder_input, decoder_hidden, encoder_outputs\n",
        "            )\n",
        "            decoder_outputs.append(decoder_output)\n",
        "            attentions.append(attn_weights)\n",
        "\n",
        "            if target_tensor is not None:\n",
        "                decoder_input = target_tensor[:, i].unsqueeze(1)  # Teacher forcing\n",
        "            else:\n",
        "                _, topi = decoder_output.topk(1)\n",
        "                decoder_input = topi.squeeze(-1).detach()  # inference\n",
        "\n",
        "        decoder_outputs = torch.cat(decoder_outputs, dim=1)\n",
        "        decoder_outputs = F.log_softmax(decoder_outputs, dim=-1)\n",
        "        attentions = torch.cat(attentions, dim=1)\n",
        "\n",
        "        return decoder_outputs, decoder_hidden, attentions\n",
        "\n",
        "\n",
        "\n",
        "    def forward_step(self, input, hidden, encoder_outputs):\n",
        "        embedded =  self.dropout(self.embedding(input))\n",
        "\n",
        "        query = hidden.permute(1, 0, 2)\n",
        "        context, attn_weights = self.attention(query, encoder_outputs)\n",
        "        input_gru = torch.cat((embedded, context), dim=2)\n",
        "\n",
        "        output, hidden = self.gru(input_gru, hidden)\n",
        "        output = self.out(output)\n",
        "\n",
        "        return output, hidden, attn_weights"
      ]
    },
    {
      "cell_type": "markdown",
      "metadata": {
        "id": "NRGONVkK4AAp"
      },
      "source": [
        "##Training\n",
        "Create a Trainable Embedding Layer\n",
        "- from_pretrained(...) uses the embedding_tensor to create a nn.Embedding layer.\n",
        "\n",
        "- freeze=False ensures the embedding weights are trainable"
      ]
    },
    {
      "cell_type": "code",
      "execution_count": null,
      "metadata": {
        "id": "A-FV00BqpeS-"
      },
      "outputs": [],
      "source": [
        "embedding_tensor = torch.tensor(embedding_matrix, dtype=torch.float32)\n",
        "embedding_layer = nn.Embedding.from_pretrained(embedding_tensor, freeze=False)\n",
        "# The hidden size of the GRU should match the embedding dimension\n",
        "batch_size = 64\n",
        "hidden_size = 300 # size of word2vec embeddings\n",
        "\n",
        "# Re-instantiate the models with the updated hidden_size\n",
        "encoder_pretrained = EncoderRNNPretrained(input_lang.n_words, hidden_size, embedding_layer).to(device)\n",
        "# The decoder's hidden size also needs to match the encoder's output hidden size\n",
        "decoder = AttnDecoderRNN(hidden_size, output_lang.n_words).to(device)\n",
        "#Print the total number of parameters\n",
        "total_params = sum(p.numel() for p in encoder_pretrained.parameters()) + sum(p.numel() for p in decoder.parameters())\n",
        "print(f\"Total number of parameters: {total_params}\")\n",
        "\n",
        "# Now we can proceed with training\n",
        "losses_list_pretrained, val_list_pretrained = train(train_dataloader, val_dataloader, encoder_pretrained, decoder, 20, print_every=1, model_name = \"pretrained.pt\" )"
      ]
    },
    {
      "cell_type": "markdown",
      "source": [
        "## Results and Evaluation\n",
        "Evaluate and see final results for the final trained model with pre-trained word embeddings.\n",
        "\n",
        "This evaluation helps establish whether incorporating pretrained embeddings leads to superior translation quality compared to models trained from scratch.\n"
      ],
      "metadata": {
        "id": "--tVtv9bH2M5"
      }
    },
    {
      "cell_type": "code",
      "source": [
        "encoder_pretrained.eval()\n",
        "decoder.eval()"
      ],
      "metadata": {
        "id": "xSRIhDojz3i9"
      },
      "execution_count": null,
      "outputs": []
    },
    {
      "cell_type": "code",
      "source": [
        "plot_metrics(losses_list_pretrained, val_list_pretrained)"
      ],
      "metadata": {
        "id": "LtFX01pnzuO_"
      },
      "execution_count": null,
      "outputs": []
    },
    {
      "cell_type": "code",
      "execution_count": null,
      "metadata": {
        "id": "L_dOZCeuSPk1"
      },
      "outputs": [],
      "source": [
        "evaluateRandomlyWBleuMeteor(encoder_pretrained, decoder,val_pairs)"
      ]
    },
    {
      "cell_type": "code",
      "source": [
        "computeCorpusBLEU(encoder_pretrained, decoder, val_pairs, input_lang, output_lang)"
      ],
      "metadata": {
        "id": "BjS8B2qZzg4L"
      },
      "execution_count": null,
      "outputs": []
    },
    {
      "cell_type": "code",
      "source": [
        "compute_meteor(encoder_pretrained, decoder, val_pairs, input_lang, output_lang)"
      ],
      "metadata": {
        "id": "mzwWmIG2zjRU"
      },
      "execution_count": null,
      "outputs": []
    }
  ],
  "metadata": {
    "colab": {
      "provenance": []
    },
    "kernelspec": {
      "display_name": "Python 3",
      "name": "python3"
    },
    "language_info": {
      "name": "python"
    }
  },
  "nbformat": 4,
  "nbformat_minor": 0
}